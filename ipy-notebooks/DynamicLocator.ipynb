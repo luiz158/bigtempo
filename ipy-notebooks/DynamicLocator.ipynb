{
 "metadata": {
  "name": "DynamicLocator"
 },
 "nbformat": 3,
 "nbformat_minor": 0,
 "worksheets": [
  {
   "cells": [
    {
     "cell_type": "code",
     "collapsed": false,
     "input": [
      "import types\n",
      "from collections import namedtuple\n",
      "from providers.base import *\n",
      "from providers.raw import *\n",
      "import util.classutils as classutils"
     ],
     "language": "python",
     "metadata": {},
     "outputs": [],
     "prompt_number": 1
    },
    {
     "cell_type": "code",
     "collapsed": false,
     "input": [
      "class Locator(object):\n",
      "\n",
      "    def __init__(self, providerLoader):\n",
      "        _PROVIDER_TYPE = namedtuple('ProviderType', 'name base_class constructor_args')\n",
      "        _PROVIDER_DEFINITIONS = [\n",
      "                                 _PROVIDER_TYPE(\"raw\", RawProvider, []),\n",
      "                                 _PROVIDER_TYPE(\"byproduct\", ByproductProvider, [self])\n",
      "                                ]\n",
      "\n",
      "        def _getter_creator(provider_map):\n",
      "            def _getter(self, providerClass=None):\n",
      "                if not providerClass:\n",
      "                    return provider_map.keys()\n",
      "                return provider_map.get(providerClass)\n",
      "            return _getter\n",
      "\n",
      "        self.providers = {}\n",
      "        setattr(self, 'get', types.MethodType(_getter_creator(self.providers), self))\n",
      "\n",
      "        for provider_type in _PROVIDER_DEFINITIONS:\n",
      "            setattr(self, provider_type.name, {})\n",
      "            provider_map = getattr(self, provider_type.name)\n",
      "            for provider in providerLoader.load(provider_type.base_class, *provider_type.constructor_args):\n",
      "                provider_reference = provider.typifies()\n",
      "                provider_map[provider_reference] = provider\n",
      "                self.providers[provider_reference] = provider\n",
      "                print provider_map.keys()\n",
      "\n",
      "            setattr(self, 'get_%s' % provider_type.name, types.MethodType(_getter_creator(provider_map), self))"
     ],
     "language": "python",
     "metadata": {},
     "outputs": [],
     "prompt_number": 32
    },
    {
     "cell_type": "code",
     "collapsed": false,
     "input": [
      "import providers.locator\n",
      "a = Locator(providers.locator.ProviderLoader(providers.locator.ProviderLazyLoadingChainBuider()))"
     ],
     "language": "python",
     "metadata": {},
     "outputs": [
      {
       "output_type": "stream",
       "stream": "stdout",
       "text": [
        "[<class 'providers.raw.YahooCotationProvider'>]\n",
        "[<class 'providers.raw.CotahistProvider'>, <class 'providers.raw.YahooCotationProvider'>]\n"
       ]
      }
     ],
     "prompt_number": 33
    },
    {
     "cell_type": "code",
     "collapsed": false,
     "input": [
      "dir(a)"
     ],
     "language": "python",
     "metadata": {},
     "outputs": [
      {
       "output_type": "pyout",
       "prompt_number": 34,
       "text": [
        "['__class__',\n",
        " '__delattr__',\n",
        " '__dict__',\n",
        " '__doc__',\n",
        " '__format__',\n",
        " '__getattribute__',\n",
        " '__hash__',\n",
        " '__init__',\n",
        " '__module__',\n",
        " '__new__',\n",
        " '__reduce__',\n",
        " '__reduce_ex__',\n",
        " '__repr__',\n",
        " '__setattr__',\n",
        " '__sizeof__',\n",
        " '__str__',\n",
        " '__subclasshook__',\n",
        " '__weakref__',\n",
        " 'byproduct',\n",
        " 'get',\n",
        " 'get_byproduct',\n",
        " 'get_raw',\n",
        " 'providers',\n",
        " 'raw']"
       ]
      }
     ],
     "prompt_number": 34
    },
    {
     "cell_type": "code",
     "collapsed": false,
     "input": [
      "a.get_raw()"
     ],
     "language": "python",
     "metadata": {},
     "outputs": [
      {
       "output_type": "pyout",
       "prompt_number": 35,
       "text": [
        "[providers.raw.CotahistProvider, providers.raw.YahooCotationProvider]"
       ]
      }
     ],
     "prompt_number": 35
    },
    {
     "cell_type": "code",
     "collapsed": false,
     "input": [
      "a.get()"
     ],
     "language": "python",
     "metadata": {},
     "outputs": [
      {
       "output_type": "pyout",
       "prompt_number": 36,
       "text": [
        "[providers.raw.CotahistProvider, providers.raw.YahooCotationProvider]"
       ]
      }
     ],
     "prompt_number": 36
    },
    {
     "cell_type": "code",
     "collapsed": false,
     "input": [],
     "language": "python",
     "metadata": {},
     "outputs": []
    }
   ],
   "metadata": {}
  }
 ]
}