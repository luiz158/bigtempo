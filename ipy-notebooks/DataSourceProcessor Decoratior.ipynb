{
 "metadata": {
  "name": "DataSourceProcessor Decoratior"
 },
 "nbformat": 3,
 "nbformat_minor": 0,
 "worksheets": [
  {
   "cells": [
    {
     "cell_type": "markdown",
     "metadata": {},
     "source": [
      "Engine registration decorator\n",
      "=============================\n",
      "\n",
      "Decoration system that registers a datasource, making it available to execution to other datasources and enabling it to access registered datasources.\n",
      "\n",
      "\n",
      "## Motivations\n",
      "### Possibilities of new projects and capabilities\n",
      "- Datasource cyclical dependency detection is made possible, as well as dependency tree visualization.\n",
      "- It allows declaration of datasource dependencies directly or through [detasource subclass] tag union/exclusion/... operations allowing for powerfull data querying.\n",
      "- It is built from scratch with highly scalablibilty in mind, so it can easily be prepared to process humonguous amounts of data or to handle high variabilities of demand, automatically adapting to it.\n",
      "- It enables plugability for creating easy management of productions systems - with easy adition or removal of datasources - through plugin systems that can support hot deploy.\n",
      "- When used with generators can be used to create as many variations and combinations of any datasource type, be it a point, a strategy, an analysis, stat\u00edstic or so on..."
     ]
    },
    {
     "cell_type": "markdown",
     "metadata": {},
     "source": [
      "## P&D - Validation and prototypation of the idea"
     ]
    },
    {
     "cell_type": "markdown",
     "metadata": {},
     "source": [
      "### Decorating a class"
     ]
    },
    {
     "cell_type": "code",
     "collapsed": false,
     "input": [
      "import util.dateutils as dateutils\n",
      "\n",
      "\n",
      "def slice_dataframe(dataframe, start, end):\n",
      "    if start and end:\n",
      "        return dataframe[start:end]\n",
      "    if start:\n",
      "        return dataframe[start:]\n",
      "    if end:\n",
      "        return dataframe[:end]\n",
      "    return dataframe\n",
      "\n",
      "\n",
      "class DatasourceEngine(object):\n",
      "    \n",
      "    ds_registrations = {}\n",
      "    ds_instances = {}\n",
      "    \n",
      "    def register(self, reference, cls, dependencies):\n",
      "        self.ds_registrations[reference] = {'class': cls, 'dependencies': dependencies}\n",
      "        self.ds_instances[reference] = None\n",
      "        \n",
      "    def evaluate(self, reference, symbol, start=None, end=None):\n",
      "        context = self._evaluate_datasource_dependencies(reference, symbol, start, end)\n",
      "        return slice_dataframe(self._get_datasource(reference).evaluate(context, symbol, start, end), start, end)\n",
      "    \n",
      "    def _get_datasource(self, reference):\n",
      "        if not self.ds_instances.get(reference):\n",
      "            if not self.ds_registrations.get(reference):\n",
      "                raise ValueException()\n",
      "            self.ds_instances[reference] = self.ds_registrations[reference]['class']()\n",
      "        return self.ds_instances[reference]\n",
      "    \n",
      "    def _evaluate_datasource_dependencies(self, reference, symbol, start=None, end=None):\n",
      "        if not self.ds_registrations.get(reference):\n",
      "            print reference\n",
      "            raise ValueError()\n",
      "        result = {}\n",
      "        for dependency in self.ds_registrations[reference]['dependencies']:\n",
      "            ds_reference, lookback_period = (dependency, 0) if isinstance(dependency, str) else (dependency[0], dependency[1])\n",
      "            newStart = None if not start else dateutils.relative_working_day(-lookback_period, start)\n",
      "            result[ds_reference] = self.evaluate(ds_reference, symbol, newStart, end)\n",
      "        return result\n",
      "\n",
      "\n",
      "def datasource(name, *dependencies):\n",
      "    def wrapper(ds_cls):\n",
      "        \n",
      "        #original_load = ds_cls.load\n",
      "        #def load(self, symbol, start=None, end=None):\n",
      "        #    print 'Processing %s:%s' % (name, symbol)\n",
      "        #    result = original_load(self, symbol, start, end)\n",
      "        #    print 'Returned %s' % (result)\n",
      "        #    return result\n",
      "        \n",
      "        #ds_cls.load = load\n",
      "        #ds_cls.ds_name = name\n",
      "        #ds_cls.ds_dependencies = dependencies\n",
      "        \n",
      "        engine.register(name, ds_cls, dependencies)\n",
      "\n",
      "        return ds_cls\n",
      "\n",
      "    return wrapper\n",
      "\n",
      "\n",
      "engine = DatasourceEngine()"
     ],
     "language": "python",
     "metadata": {},
     "outputs": [],
     "prompt_number": 47
    },
    {
     "cell_type": "code",
     "collapsed": false,
     "input": [
      "import talib\n",
      "import pandas\n",
      "from datetime import date as dt\n",
      "\n",
      "import providers.locator as locator\n",
      "import providers.byproduct as byproduct\n",
      "\n",
      "s_symbol = 'PETR4'\n",
      "c_locator = locator.stock()"
     ],
     "language": "python",
     "metadata": {},
     "outputs": [],
     "prompt_number": 48
    },
    {
     "cell_type": "code",
     "collapsed": false,
     "input": [
      "@datasource('Normalized')\n",
      "class ExampleDatasource(object):\n",
      "    \n",
      "    def evaluate(self, context, symbol, start, end):\n",
      "        return c_locator.get(byproduct.NormalizedCotationProvider).load(s_symbol, start, end)\n",
      "\n",
      "\n",
      "@datasource('MACD', ('Normalized', 36))\n",
      "class ExampleDatasource2(object):\n",
      "\n",
      "    fast_period = 12\n",
      "    slow_period = 26\n",
      "    signal_period = 9\n",
      "    column = 'close'\n",
      "\n",
      "    def evaluate(self, context, symbol, start, end):\n",
      "        df_norm = context['Normalized']\n",
      "        macd, macdsignal, macdhist = talib.MACD(df_norm[self.column], fastperiod=self.fast_period, slowperiod=self.slow_period, signalperiod=self.signal_period)\n",
      "        return pandas.DataFrame({\"macd\":macd, \"macdsignal\":macdsignal, \"macdhist\":macdhist}, df_norm.index).dropna()"
     ],
     "language": "python",
     "metadata": {},
     "outputs": [],
     "prompt_number": 58
    },
    {
     "cell_type": "code",
     "collapsed": false,
     "input": [
      "#engine.evaluate('Normalized', 'PETR4', dt(2013, 1, 1), dt(2013, 3, 1))"
     ],
     "language": "python",
     "metadata": {},
     "outputs": [],
     "prompt_number": 59
    },
    {
     "cell_type": "code",
     "collapsed": false,
     "input": [
      "#engine.evaluate('MACD', '', dt(2013, 1, 1), dt(2013, 3, 1))"
     ],
     "language": "python",
     "metadata": {},
     "outputs": [],
     "prompt_number": 60
    },
    {
     "cell_type": "code",
     "collapsed": false,
     "input": [
      "class Operation(object):\n",
      "    \n",
      "    isBought = False\n",
      "    orders = []\n",
      "    \n",
      "    def isBought(self):\n",
      "        return self.isBought\n",
      "\n",
      "    def buy(self, value, date):\n",
      "        if isBought:\n",
      "            raise ValueError()\n",
      "        isBought = True\n",
      "        orders.append((date, 'BUY', value))\n",
      "    \n",
      "    def sell(self, value, date):\n",
      "        if not isBought:\n",
      "            raise ValueError()\n",
      "        isBought = False\n",
      "        orders.append((date, 'SELL', value))\n",
      "\n",
      "\n",
      "class PointRegistror(object):\n",
      "    \n",
      "    points = []\n",
      "    \n",
      "    def add(self, date, value):\n",
      "        self.points.append((date, value))\n",
      "    \n",
      "    def get(self):\n",
      "        #return self.points\n",
      "        print self.points\n",
      "        return pandas.DataFrame()\n",
      "\n",
      "\n",
      "class AbstractPoint(object):\n",
      "    pass\n",
      "\n",
      "\n",
      "class MACD_Buy_Point(AbstractPoint):\n",
      "\n",
      "    def evaluate(self, registor, data):\n",
      "        if data['MACD']['macdhist'].ix[0] < 0 and data['MACD']['macdhist'].ix[1] > 0:\n",
      "            registor.add(data['Normalized'].ix[1].name, data['Normalized']['close'].ix[1])\n",
      "\n",
      "\n",
      "@datasource('MACD_BUY_POINT', ('MACD', 1), ('Normalized'))\n",
      "class PointDatasource(object):\n",
      "    \n",
      "    abstractPointEvaluation = MACD_Buy_Point().evaluate\n",
      "    lookback_period = 1\n",
      "    \n",
      "    def evaluate(self, context, symbol, start, end):\n",
      "        registor = PointRegistror()\n",
      "        df_macd = context['MACD']\n",
      "        \n",
      "        for i in range(self.lookback_period + 1, len(df_macd)):\n",
      "            data = {}\n",
      "            for key in context.keys():\n",
      "                data[key] = context[key].ix[i - self.lookback_period - 1 : i]\n",
      "            self.abstractPointEvaluation(registor, data)\n",
      "\n",
      "        return registor.get()\n",
      "\n",
      "    \n",
      "for i in range(2):\n",
      "    @datasource('Example_%i' % i)\n",
      "    class Cls(object):\n",
      "        \n",
      "        def __init__(self):\n",
      "            self.param = i\n",
      "            \n",
      "        def evaluate(self, context, symbol, start, end):\n",
      "            return [x for x in range(self.param, self.param+10)]"
     ],
     "language": "python",
     "metadata": {},
     "outputs": [],
     "prompt_number": 72
    },
    {
     "cell_type": "code",
     "collapsed": false,
     "input": [
      "engine.evaluate('MACD_BUY_POINT', 'PETR4', dt(2012, 1, 1), dt(2013, 3, 1))"
     ],
     "language": "python",
     "metadata": {},
     "outputs": [
      {
       "output_type": "stream",
       "stream": "stdout",
       "text": [
        "[(<Timestamp: 2012-01-09 00:00:00>, 22.629999999999999), (<Timestamp: 2012-02-08 00:00:00>, 25.43), (<Timestamp: 2012-03-05 00:00:00>, 24.59), (<Timestamp: 2012-03-20 00:00:00>, 24.27), (<Timestamp: 2012-04-27 00:00:00>, 20.93), (<Timestamp: 2012-05-22 00:00:00>, 19.710000000000001), (<Timestamp: 2012-07-04 00:00:00>, 18.949999999999999), (<Timestamp: 2012-09-13 00:00:00>, 22.899999999999999), (<Timestamp: 2012-12-04 00:00:00>, 18.82), (<Timestamp: 2013-02-20 00:00:00>, 17.620000000000001)]\n"
       ]
      },
      {
       "html": [
        "<div style=\"max-height:1000px;max-width:1500px;overflow:auto;\">\n",
        "<table border=\"1\" class=\"dataframe\">\n",
        "  <tbody>\n",
        "    <tr>\n",
        "      <td>Index([], dtype=object)</td>\n",
        "      <td>Empty DataFrame</td>\n",
        "    </tr>\n",
        "  </tbody>\n",
        "</table>\n",
        "</div>"
       ],
       "output_type": "pyout",
       "prompt_number": 73,
       "text": [
        "Empty DataFrame\n",
        "Columns: []\n",
        "Index: []"
       ]
      }
     ],
     "prompt_number": 73
    },
    {
     "cell_type": "code",
     "collapsed": false,
     "input": [],
     "language": "python",
     "metadata": {},
     "outputs": [],
     "prompt_number": 113
    },
    {
     "cell_type": "code",
     "collapsed": false,
     "input": [],
     "language": "python",
     "metadata": {},
     "outputs": []
    }
   ],
   "metadata": {}
  }
 ]
}