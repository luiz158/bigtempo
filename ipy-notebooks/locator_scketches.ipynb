{
 "metadata": {
  "name": "locator_scketches"
 },
 "nbformat": 3,
 "nbformat_minor": 0,
 "worksheets": [
  {
   "cells": [
    {
     "cell_type": "code",
     "collapsed": false,
     "input": [
      "from providers.raw import *\n",
      "from providers.base import *"
     ],
     "language": "python",
     "metadata": {},
     "outputs": [
      {
       "output_type": "stream",
       "stream": "stderr",
       "text": [
        "/data/resemblanceProfiles/oncast-linux-PC/config/.virtualenvs/stockExperiments/lib/python2.7/site-packages/pytz/__init__.py:35: UserWarning: Module numpy was already imported from /data/resemblanceProfiles/oncast-linux-PC/config/.virtualenvs/finantial/local/lib/python2.7/site-packages/numpy/__init__.pyc, but /data/resemblanceProfiles/oncast-linux-PC/config/.virtualenvs/stockExperiments/lib/python2.7/site-packages is being added to sys.path\n",
        "  from pkg_resources import resource_stream\n",
        "/data/resemblanceProfiles/oncast-linux-PC/config/.virtualenvs/stockExperiments/lib/python2.7/site-packages/pytz/__init__.py:35: UserWarning: Module zmq was already imported from /data/resemblanceProfiles/oncast-linux-PC/config/.virtualenvs/finantial/local/lib/python2.7/site-packages/zmq/__init__.pyc, but /data/resemblanceProfiles/oncast-linux-PC/config/.virtualenvs/stockExperiments/lib/python2.7/site-packages is being added to sys.path\n",
        "  from pkg_resources import resource_stream\n"
       ]
      },
      {
       "output_type": "stream",
       "stream": "stderr",
       "text": [
        "/data/resemblanceProfiles/oncast-linux-PC/config/.virtualenvs/stockExperiments/lib/python2.7/site-packages/pytz/__init__.py:35: UserWarning: Module IPython was already imported from /data/resemblanceProfiles/oncast-linux-PC/config/.virtualenvs/finantial/local/lib/python2.7/site-packages/IPython/__init__.pyc, but /data/resemblanceProfiles/oncast-linux-PC/config/.virtualenvs/stockExperiments/lib/python2.7/site-packages is being added to sys.path\n",
        "  from pkg_resources import resource_stream\n"
       ]
      }
     ],
     "prompt_number": 6
    },
    {
     "cell_type": "code",
     "collapsed": false,
     "input": [
      "def all_subclasses(clazz):\n",
      "    recursiveResult = []\n",
      "    for subClazz in clazz.__subclasses__():\n",
      "        recursiveResult.extend(all_subclasses(subClazz))\n",
      "    return clazz.__subclasses__() + recursiveResult\n",
      "\n",
      "def instantiate(classes):\n",
      "    return [clazz() for clazz in classes]"
     ],
     "language": "python",
     "metadata": {},
     "outputs": [],
     "prompt_number": 7
    },
    {
     "cell_type": "code",
     "collapsed": false,
     "input": [
      "class Locator(object):\n",
      "\n",
      "    def __init__(self, providerLoader):\n",
      "        self.providers = {}\n",
      "        for provider in providerLoader.load():\n",
      "            self.providers[provider.__class__] = provider\n",
      "\n",
      "    def get(self, providerClass=None):\n",
      "        if not providerClass:\n",
      "            return self.providers.keys()\n",
      "        return self.providers.get(providerClass)\n",
      "\n",
      "class ProviderLoader(object):\n",
      "\n",
      "    def load(self):\n",
      "        return self.__load(RawProvider)\n",
      "\n",
      "    def __load(self, baseClass):\n",
      "        return instantiate(all_subclasses(baseClass))"
     ],
     "language": "python",
     "metadata": {},
     "outputs": [],
     "prompt_number": 8
    },
    {
     "cell_type": "code",
     "collapsed": false,
     "input": [
      "l = Locator(ProviderLoader())"
     ],
     "language": "python",
     "metadata": {},
     "outputs": [],
     "prompt_number": 9
    },
    {
     "cell_type": "code",
     "collapsed": false,
     "input": [
      "l.get()"
     ],
     "language": "python",
     "metadata": {},
     "outputs": [
      {
       "output_type": "pyout",
       "prompt_number": 10,
       "text": [
        "[providers.raw.YahooCotationProvider]"
       ]
      }
     ],
     "prompt_number": 10
    },
    {
     "cell_type": "code",
     "collapsed": false,
     "input": [
      "l.get(YahooCotationProvider)"
     ],
     "language": "python",
     "metadata": {},
     "outputs": [
      {
       "output_type": "pyout",
       "prompt_number": 6,
       "text": [
        "<providers.raw.YahooCotationProvider at 0xaccee6c>"
       ]
      }
     ],
     "prompt_number": 6
    },
    {
     "cell_type": "code",
     "collapsed": false,
     "input": [
      "l.get(YahooCotationProvider).load(\"PETR4\")"
     ],
     "language": "python",
     "metadata": {},
     "outputs": [
      {
       "output_type": "pyout",
       "prompt_number": 7,
       "text": [
        "[2000-01-03    19.09\n",
        "2000-01-04    19.00\n",
        "2000-01-05    18.44\n",
        "2000-01-06    18.92\n",
        "2000-01-07    19.13\n",
        "2000-01-10    18.81\n",
        "2000-01-11    19.47\n",
        "2000-01-12    19.44\n",
        "2000-01-13    19.67\n",
        "2000-01-14    20.29\n",
        "2000-01-17    20.44\n",
        "2000-01-18    20.83\n",
        "2000-01-19    20.55\n",
        "2000-01-20    21.20\n",
        "2000-01-21    21.62\n",
        "...\n",
        "2012-11-07    52.00\n",
        "2012-11-08    53.12\n",
        "2012-11-09    53.25\n",
        "2012-11-12    53.62\n",
        "2012-11-13    53.38\n",
        "2012-11-14    54.00\n",
        "2012-11-16    53.25\n",
        "2012-11-19    54.83\n",
        "2012-11-21    54.75\n",
        "2012-11-22    56.13\n",
        "2012-11-26    55.00\n",
        "2012-11-27    54.75\n",
        "2012-11-28    54.94\n",
        "2012-11-29    55.50\n",
        "2012-11-30    58.74\n",
        "Name: open, Length: 3160,\n",
        " 2000-01-03    18.51\n",
        "2000-01-04    18.74\n",
        "2000-01-05    18.35\n",
        "2000-01-06    18.36\n",
        "2000-01-07    18.70\n",
        "2000-01-10    18.45\n",
        "2000-01-11    18.62\n",
        "2000-01-12    19.13\n",
        "2000-01-13    18.84\n",
        "2000-01-14    19.66\n",
        "2000-01-17    20.17\n",
        "2000-01-18    20.31\n",
        "2000-01-19    20.52\n",
        "2000-01-20    20.50\n",
        "2000-01-21    21.04\n",
        "...\n",
        "2012-11-07    52.00\n",
        "2012-11-08    53.12\n",
        "2012-11-09    53.25\n",
        "2012-11-12    53.62\n",
        "2012-11-13    53.38\n",
        "2012-11-14    54.00\n",
        "2012-11-16    53.25\n",
        "2012-11-19    54.83\n",
        "2012-11-21    54.75\n",
        "2012-11-22    56.13\n",
        "2012-11-26    55.00\n",
        "2012-11-27    54.75\n",
        "2012-11-28    54.94\n",
        "2012-11-29    55.50\n",
        "2012-11-30    58.74\n",
        "Name: min, Length: 3160,\n",
        " 2000-01-03    19.28\n",
        "2000-01-04    19.15\n",
        "2000-01-05    18.90\n",
        "2000-01-06    19.29\n",
        "2000-01-07    19.13\n",
        "2000-01-10    18.95\n",
        "2000-01-11    19.56\n",
        "2000-01-12    19.62\n",
        "2000-01-13    19.80\n",
        "2000-01-14    20.54\n",
        "2000-01-17    20.67\n",
        "2000-01-18    20.96\n",
        "2000-01-19    21.11\n",
        "2000-01-20    21.35\n",
        "2000-01-21    21.72\n",
        "...\n",
        "2012-11-07    52.00\n",
        "2012-11-08    53.12\n",
        "2012-11-09    53.25\n",
        "2012-11-12    53.62\n",
        "2012-11-13    53.38\n",
        "2012-11-14    54.00\n",
        "2012-11-16    53.25\n",
        "2012-11-19    54.83\n",
        "2012-11-21    54.75\n",
        "2012-11-22    56.13\n",
        "2012-11-26    55.00\n",
        "2012-11-27    54.75\n",
        "2012-11-28    54.94\n",
        "2012-11-29    55.50\n",
        "2012-11-30    58.74\n",
        "Name: max, Length: 3160,\n",
        " 2000-01-03    18.66\n",
        "2000-01-04    19.15\n",
        "2000-01-05    18.65\n",
        "2000-01-06    18.51\n",
        "2000-01-07    18.82\n",
        "2000-01-10    18.65\n",
        "2000-01-11    18.62\n",
        "2000-01-12    19.13\n",
        "2000-01-13    19.03\n",
        "2000-01-14    19.80\n",
        "2000-01-17    20.47\n",
        "2000-01-18    20.44\n",
        "2000-01-19    20.78\n",
        "2000-01-20    20.61\n",
        "2000-01-21    21.18\n",
        "...\n",
        "2012-11-07    52.00\n",
        "2012-11-08    53.12\n",
        "2012-11-09    53.25\n",
        "2012-11-12    53.62\n",
        "2012-11-13    53.38\n",
        "2012-11-14    54.00\n",
        "2012-11-16    53.25\n",
        "2012-11-19    54.83\n",
        "2012-11-21    54.75\n",
        "2012-11-22    56.13\n",
        "2012-11-26    55.00\n",
        "2012-11-27    54.75\n",
        "2012-11-28    54.94\n",
        "2012-11-29    55.50\n",
        "2012-11-30    58.74\n",
        "Name: close, Length: 3160,\n",
        " 2000-01-03    37179700\n",
        "2000-01-04    26702100\n",
        "2000-01-05    25941300\n",
        "2000-01-06    31833300\n",
        "2000-01-07    18004000\n",
        "2000-01-10    16757000\n",
        "2000-01-11    32393400\n",
        "2000-01-12    22437000\n",
        "2000-01-13    33874400\n",
        "2000-01-14    28281900\n",
        "2000-01-17    25641500\n",
        "2000-01-18    16831600\n",
        "2000-01-19    20890300\n",
        "2000-01-20    22965500\n",
        "2000-01-21    23550600\n",
        "...\n",
        "2012-11-07    21891200\n",
        "2012-11-08    32835200\n",
        "2012-11-09    48604800\n",
        "2012-11-12    22406400\n",
        "2012-11-13    20716800\n",
        "2012-11-14    20822400\n",
        "2012-11-16    32979200\n",
        "2012-11-19    29126400\n",
        "2012-11-21    29984000\n",
        "2012-11-22    24454400\n",
        "2012-11-26    26140800\n",
        "2012-11-27    42569600\n",
        "2012-11-28    53792000\n",
        "2012-11-29    36076800\n",
        "2012-11-30    44236800\n",
        "Name: volume, Length: 3160]"
       ]
      }
     ],
     "prompt_number": 7
    },
    {
     "cell_type": "code",
     "collapsed": false,
     "input": [],
     "language": "python",
     "metadata": {},
     "outputs": []
    }
   ],
   "metadata": {}
  }
 ]
}