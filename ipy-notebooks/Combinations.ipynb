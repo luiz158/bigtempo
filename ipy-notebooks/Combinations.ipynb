{
 "metadata": {
  "name": "Combinations"
 },
 "nbformat": 3,
 "nbformat_minor": 0,
 "worksheets": [
  {
   "cells": [
    {
     "cell_type": "code",
     "collapsed": false,
     "input": [
      "mappings = {\n",
      "    'a': ['A1', 'A2', 'A3'],\n",
      "    'b': ['B1', 'B2', 'B3'],\n",
      "    'c': ['C1', 'C2', 'C3'],\n",
      "    'd': ['D1', 'D2', 'D3'],\n",
      "    'e': ['E1', 'E2', 'E3']\n",
      "}"
     ],
     "language": "python",
     "metadata": {},
     "outputs": [],
     "prompt_number": 12
    },
    {
     "cell_type": "code",
     "collapsed": false,
     "input": [
      "import itertools"
     ],
     "language": "python",
     "metadata": {},
     "outputs": [],
     "prompt_number": 13
    },
    {
     "cell_type": "code",
     "collapsed": false,
     "input": [
      "def combine(*selectors):\n",
      "    selections = []\n",
      "    for selector in selectors:\n",
      "        selections.append(mappings[selector])\n",
      "    result = itertools.product(*selections)\n",
      "    for i in result:\n",
      "        printer(*i)\n",
      "\n",
      "def printer(*things):\n",
      "    print 'printer(',\n",
      "    for thing in things:\n",
      "        print thing,\n",
      "        print ', ',\n",
      "    print ')'"
     ],
     "language": "python",
     "metadata": {},
     "outputs": [],
     "prompt_number": 34
    },
    {
     "cell_type": "code",
     "collapsed": false,
     "input": [
      "combine('a')"
     ],
     "language": "python",
     "metadata": {},
     "outputs": [
      {
       "output_type": "stream",
       "stream": "stdout",
       "text": [
        "printer( A1 ,  )\n",
        "printer( A2 ,  )\n",
        "printer( A3 ,  )\n"
       ]
      }
     ],
     "prompt_number": 35
    },
    {
     "cell_type": "code",
     "collapsed": false,
     "input": [
      "combine('a', 'b')"
     ],
     "language": "python",
     "metadata": {},
     "outputs": [
      {
       "output_type": "stream",
       "stream": "stdout",
       "text": [
        "printer( A1 ,  B1 ,  )\n",
        "printer( A1 ,  B2 ,  )\n",
        "printer( A1 ,  B3 ,  )\n",
        "printer( A2 ,  B1 ,  )\n",
        "printer( A2 ,  B2 ,  )\n",
        "printer( A2 ,  B3 ,  )\n",
        "printer( A3 ,  B1 ,  )\n",
        "printer( A3 ,  B2 ,  )\n",
        "printer( A3 ,  B3 ,  )\n"
       ]
      }
     ],
     "prompt_number": 36
    },
    {
     "cell_type": "code",
     "collapsed": false,
     "input": [
      "combine('a', 'b', 'c')"
     ],
     "language": "python",
     "metadata": {},
     "outputs": [
      {
       "output_type": "stream",
       "stream": "stdout",
       "text": [
        "printer( A1 ,  B1 ,  C1 ,  )\n",
        "printer( A1 ,  B1 ,  C2 ,  )\n",
        "printer( A1 ,  B1 ,  C3 ,  )\n",
        "printer( A1 ,  B2 ,  C1 ,  )\n",
        "printer( A1 ,  B2 ,  C2 ,  )\n",
        "printer( A1 ,  B2 ,  C3 ,  )\n",
        "printer( A1 ,  B3 ,  C1 ,  )\n",
        "printer( A1 ,  B3 ,  C2 ,  )\n",
        "printer( A1 ,  B3 ,  C3 ,  )\n",
        "printer( A2 ,  B1 ,  C1 ,  )\n",
        "printer( A2 ,  B1 ,  C2 ,  )\n",
        "printer( A2 ,  B1 ,  C3 ,  )\n",
        "printer( A2 ,  B2 ,  C1 ,  )\n",
        "printer( A2 ,  B2 ,  C2 ,  )\n",
        "printer( A2 ,  B2 ,  C3 ,  )\n",
        "printer( A2 ,  B3 ,  C1 ,  )\n",
        "printer( A2 ,  B3 ,  C2 ,  )\n",
        "printer( A2 ,  B3 ,  C3 ,  )\n",
        "printer( A3 ,  B1 ,  C1 ,  )\n",
        "printer( A3 ,  B1 ,  C2 ,  )\n",
        "printer( A3 ,  B1 ,  C3 ,  )\n",
        "printer( A3 ,  B2 ,  C1 ,  )\n",
        "printer( A3 ,  B2 ,  C2 ,  )\n",
        "printer( A3 ,  B2 ,  C3 ,  )\n",
        "printer( A3 ,  B3 ,  C1 ,  )\n",
        "printer( A3 ,  B3 ,  C2 ,  )\n",
        "printer( A3 ,  B3 ,  C3 ,  )\n"
       ]
      }
     ],
     "prompt_number": 37
    },
    {
     "cell_type": "code",
     "collapsed": false,
     "input": [],
     "language": "python",
     "metadata": {},
     "outputs": []
    }
   ],
   "metadata": {}
  }
 ]
}