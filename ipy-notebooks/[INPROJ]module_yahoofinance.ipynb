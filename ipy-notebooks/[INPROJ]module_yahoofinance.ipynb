{
 "metadata": {
  "name": "[INPROJ]module_yahoofinance"
 },
 "nbformat": 3,
 "nbformat_minor": 0,
 "worksheets": [
  {
   "cells": [
    {
     "cell_type": "code",
     "collapsed": false,
     "input": [
      "import sources.yahoofinance as yahoo\n",
      "import datetime\n",
      "import pandas"
     ],
     "language": "python",
     "metadata": {},
     "outputs": [],
     "prompt_number": 28
    },
    {
     "cell_type": "code",
     "collapsed": false,
     "input": [
      "s_symbol = 'PETR4'\n",
      "da_start = datetime.date(2013, 1, 16)\n",
      "da_end = datetime.date(2013, 1, 18)"
     ],
     "language": "python",
     "metadata": {},
     "outputs": [],
     "prompt_number": 43
    },
    {
     "cell_type": "code",
     "collapsed": false,
     "input": [
      "data = yahoo.historical_prices(s_symbol + \".SA\", da_start, da_end)"
     ],
     "language": "python",
     "metadata": {},
     "outputs": [],
     "prompt_number": 45
    },
    {
     "cell_type": "code",
     "collapsed": false,
     "input": [
      "mapping = [(\"open\", 1), (\"high\", 2), (\"low\", 3), (\"close\", 4), (\"volume\", 5)]\n",
      "\n",
      "def load():\n",
      "    ll_data = zip(*data[::-1])\n",
      "    ts_index = ll_data[0]\n",
      "    return {s_name: _createSeries(ll_data[i_columnIndex], ts_index, s_name) for s_name, i_columnIndex in mapping}\n",
      "    #return dict((s_name, _createSeries(ll_data[i_columnIndex], ts_index, s_name)) for s_name, i_columnIndex in mapping)\n",
      "\n",
      "def _createSeries(data, ts_index, s_name):\n",
      "    return pandas.TimeSeries(data, index=ts_index, name=s_name)"
     ],
     "language": "python",
     "metadata": {},
     "outputs": [],
     "prompt_number": 46
    },
    {
     "cell_type": "code",
     "collapsed": false,
     "input": [
      "result = load()"
     ],
     "language": "python",
     "metadata": {},
     "outputs": [],
     "prompt_number": 47
    },
    {
     "cell_type": "code",
     "collapsed": false,
     "input": [
      "result"
     ],
     "language": "python",
     "metadata": {},
     "outputs": [
      {
       "output_type": "pyout",
       "prompt_number": 48,
       "text": [
        "{'close': 2013-01-16    19.84\n",
        "Name: close,\n",
        " 'high': 2013-01-16    19.89\n",
        "Name: high,\n",
        " 'low': 2013-01-16    19.6\n",
        "Name: low,\n",
        " 'open': 2013-01-16    19.89\n",
        "Name: open,\n",
        " 'volume': 2013-01-16    16787800\n",
        "Name: volume}"
       ]
      }
     ],
     "prompt_number": 48
    },
    {
     "cell_type": "code",
     "collapsed": false,
     "input": [
      "import pandas\n",
      "import util.plotutils as plotutils\n",
      "\n",
      "s_symbol = 'PETR4'\n",
      "df_quote = pandas.DataFrame(result, columns=['open', 'high', 'low', 'close'])\n"
     ],
     "language": "python",
     "metadata": {},
     "outputs": [],
     "prompt_number": 49
    },
    {
     "cell_type": "code",
     "collapsed": false,
     "input": [
      "df_quote"
     ],
     "language": "python",
     "metadata": {},
     "outputs": [
      {
       "html": [
        "<div style=\"max-height:1000px;max-width:1500px;overflow:auto;\">\n",
        "<table border=\"1\" class=\"dataframe\">\n",
        "  <thead>\n",
        "    <tr style=\"text-align: right;\">\n",
        "      <th></th>\n",
        "      <th>open</th>\n",
        "      <th>high</th>\n",
        "      <th>low</th>\n",
        "      <th>close</th>\n",
        "    </tr>\n",
        "  </thead>\n",
        "  <tbody>\n",
        "    <tr>\n",
        "      <td><strong>2013-01-16</strong></td>\n",
        "      <td> 19.89</td>\n",
        "      <td> 19.89</td>\n",
        "      <td> 19.6</td>\n",
        "      <td> 19.84</td>\n",
        "    </tr>\n",
        "  </tbody>\n",
        "</table>\n",
        "</div>"
       ],
       "output_type": "pyout",
       "prompt_number": 50,
       "text": [
        "             open   high   low  close\n",
        "2013-01-16  19.89  19.89  19.6  19.84"
       ]
      }
     ],
     "prompt_number": 50
    },
    {
     "cell_type": "code",
     "collapsed": false,
     "input": [
      "df_quote.tail(5)"
     ],
     "language": "python",
     "metadata": {},
     "outputs": [
      {
       "html": [
        "<div style=\"max-height:1000px;max-width:1500px;overflow:auto;\">\n",
        "<table border=\"1\" class=\"dataframe\">\n",
        "  <thead>\n",
        "    <tr style=\"text-align: right;\">\n",
        "      <th></th>\n",
        "      <th>open</th>\n",
        "      <th>high</th>\n",
        "      <th>low</th>\n",
        "      <th>close</th>\n",
        "    </tr>\n",
        "  </thead>\n",
        "  <tbody>\n",
        "    <tr>\n",
        "      <td><strong>2013-01-16</strong></td>\n",
        "      <td> 19.89</td>\n",
        "      <td> 19.89</td>\n",
        "      <td> 19.6</td>\n",
        "      <td> 19.84</td>\n",
        "    </tr>\n",
        "  </tbody>\n",
        "</table>\n",
        "</div>"
       ],
       "output_type": "pyout",
       "prompt_number": 51,
       "text": [
        "             open   high   low  close\n",
        "2013-01-16  19.89  19.89  19.6  19.84"
       ]
      }
     ],
     "prompt_number": 51
    },
    {
     "cell_type": "code",
     "collapsed": false,
     "input": [
      "plotutils.candlestick(df_quote, s_symbol)"
     ],
     "language": "python",
     "metadata": {},
     "outputs": []
    }
   ],
   "metadata": {}
  }
 ]
}