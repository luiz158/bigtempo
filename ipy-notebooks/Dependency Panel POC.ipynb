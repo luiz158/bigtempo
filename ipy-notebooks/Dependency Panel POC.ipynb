{
 "metadata": {
  "name": "Dependency Panel POC"
 },
 "nbformat": 3,
 "nbformat_minor": 0,
 "worksheets": [
  {
   "cells": [
    {
     "cell_type": "code",
     "collapsed": false,
     "input": [
      "import pandas"
     ],
     "language": "python",
     "metadata": {},
     "outputs": [],
     "prompt_number": 2
    },
    {
     "cell_type": "code",
     "collapsed": false,
     "input": [
      "data1 = {'a': ['1a1', '1a2', '1a3', '1a4', '1a5'], 'b': ['1b1', '1b2', '1b3', '1b4', '1b5']}\n",
      "data2 = {'a': ['2c1', '2c2', '2c3', '2c4', '2c5'], 'b': ['2d1', '2d2', '2d3', '2d4', '2d5']}\n",
      "data3 = {'a': ['3e1', '3e2', '3e3', '3e4', '3e5'], 'b': ['3f1', '3f2', '3f3', '3f4', '3f5']}"
     ],
     "language": "python",
     "metadata": {},
     "outputs": [],
     "prompt_number": 39
    },
    {
     "cell_type": "code",
     "collapsed": false,
     "input": [
      "p1 = pandas.Panel({'data1': data1, 'data2': data2, 'data3': data3})"
     ],
     "language": "python",
     "metadata": {},
     "outputs": [],
     "prompt_number": 40
    },
    {
     "cell_type": "code",
     "collapsed": false,
     "input": [
      "p2 = pandas.Panel({'data1': pandas.DataFrame(data1), 'data2': pandas.DataFrame(data2), 'data3': pandas.DataFrame(data3)})"
     ],
     "language": "python",
     "metadata": {},
     "outputs": [],
     "prompt_number": 41
    },
    {
     "cell_type": "code",
     "collapsed": false,
     "input": [
      "p1"
     ],
     "language": "python",
     "metadata": {},
     "outputs": [
      {
       "output_type": "pyout",
       "prompt_number": 43,
       "text": [
        "<class 'pandas.core.panel.Panel'>\n",
        "Dimensions: 3 (items) x 5 (major_axis) x 2 (minor_axis)\n",
        "Items axis: data1 to data3\n",
        "Major_axis axis: 0 to 4\n",
        "Minor_axis axis: a to b"
       ]
      }
     ],
     "prompt_number": 43
    },
    {
     "cell_type": "code",
     "collapsed": false,
     "input": [
      "p1['data3']"
     ],
     "language": "python",
     "metadata": {},
     "outputs": [
      {
       "html": [
        "<div style=\"max-height:1000px;max-width:1500px;overflow:auto;\">\n",
        "<table border=\"1\" class=\"dataframe\">\n",
        "  <thead>\n",
        "    <tr style=\"text-align: right;\">\n",
        "      <th></th>\n",
        "      <th>a</th>\n",
        "      <th>b</th>\n",
        "    </tr>\n",
        "  </thead>\n",
        "  <tbody>\n",
        "    <tr>\n",
        "      <th>0</th>\n",
        "      <td> 3e1</td>\n",
        "      <td> 3f1</td>\n",
        "    </tr>\n",
        "    <tr>\n",
        "      <th>1</th>\n",
        "      <td> 3e2</td>\n",
        "      <td> 3f2</td>\n",
        "    </tr>\n",
        "    <tr>\n",
        "      <th>2</th>\n",
        "      <td> 3e3</td>\n",
        "      <td> 3f3</td>\n",
        "    </tr>\n",
        "    <tr>\n",
        "      <th>3</th>\n",
        "      <td> 3e4</td>\n",
        "      <td> 3f4</td>\n",
        "    </tr>\n",
        "    <tr>\n",
        "      <th>4</th>\n",
        "      <td> 3e5</td>\n",
        "      <td> 3f5</td>\n",
        "    </tr>\n",
        "  </tbody>\n",
        "</table>\n",
        "</div>"
       ],
       "output_type": "pyout",
       "prompt_number": 48,
       "text": [
        "     a    b\n",
        "0  3e1  3f1\n",
        "1  3e2  3f2\n",
        "2  3e3  3f3\n",
        "3  3e4  3f4\n",
        "4  3e5  3f5"
       ]
      }
     ],
     "prompt_number": 48
    },
    {
     "cell_type": "code",
     "collapsed": false,
     "input": [
      "p1.minor_xs('b')"
     ],
     "language": "python",
     "metadata": {},
     "outputs": [
      {
       "html": [
        "<div style=\"max-height:1000px;max-width:1500px;overflow:auto;\">\n",
        "<table border=\"1\" class=\"dataframe\">\n",
        "  <thead>\n",
        "    <tr style=\"text-align: right;\">\n",
        "      <th></th>\n",
        "      <th>data1</th>\n",
        "      <th>data2</th>\n",
        "      <th>data3</th>\n",
        "    </tr>\n",
        "  </thead>\n",
        "  <tbody>\n",
        "    <tr>\n",
        "      <th>0</th>\n",
        "      <td> 1b1</td>\n",
        "      <td> 2d1</td>\n",
        "      <td> 3f1</td>\n",
        "    </tr>\n",
        "    <tr>\n",
        "      <th>1</th>\n",
        "      <td> 1b2</td>\n",
        "      <td> 2d2</td>\n",
        "      <td> 3f2</td>\n",
        "    </tr>\n",
        "    <tr>\n",
        "      <th>2</th>\n",
        "      <td> 1b3</td>\n",
        "      <td> 2d3</td>\n",
        "      <td> 3f3</td>\n",
        "    </tr>\n",
        "    <tr>\n",
        "      <th>3</th>\n",
        "      <td> 1b4</td>\n",
        "      <td> 2d4</td>\n",
        "      <td> 3f4</td>\n",
        "    </tr>\n",
        "    <tr>\n",
        "      <th>4</th>\n",
        "      <td> 1b5</td>\n",
        "      <td> 2d5</td>\n",
        "      <td> 3f5</td>\n",
        "    </tr>\n",
        "  </tbody>\n",
        "</table>\n",
        "</div>"
       ],
       "output_type": "pyout",
       "prompt_number": 50,
       "text": [
        "  data1 data2 data3\n",
        "0   1b1   2d1   3f1\n",
        "1   1b2   2d2   3f2\n",
        "2   1b3   2d3   3f3\n",
        "3   1b4   2d4   3f4\n",
        "4   1b5   2d5   3f5"
       ]
      }
     ],
     "prompt_number": 50
    },
    {
     "cell_type": "code",
     "collapsed": false,
     "input": [],
     "language": "python",
     "metadata": {},
     "outputs": []
    }
   ],
   "metadata": {}
  }
 ]
}