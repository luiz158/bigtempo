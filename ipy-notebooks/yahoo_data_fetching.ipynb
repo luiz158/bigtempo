{
 "metadata": {
  "name": "yahoo_data_fetching"
 },
 "nbformat": 3,
 "nbformat_minor": 0,
 "worksheets": [
  {
   "cells": [
    {
     "cell_type": "code",
     "collapsed": false,
     "input": [
      "import sources.ystockquote as ysq\n",
      "import datetime"
     ],
     "language": "python",
     "metadata": {},
     "outputs": [],
     "prompt_number": 7
    },
    {
     "cell_type": "code",
     "collapsed": false,
     "input": [
      "startDate = datetime.date(2012,11,1)\n",
      "endDate = datetime.date(2012,11,6)"
     ],
     "language": "python",
     "metadata": {},
     "outputs": [],
     "prompt_number": 21
    },
    {
     "cell_type": "code",
     "collapsed": false,
     "input": [
      "resultYsq = ysq.get_historical_prices(\"PETR4.SA\", startDate, endDate)\n",
      "resultYsq"
     ],
     "language": "python",
     "metadata": {},
     "outputs": [
      {
       "output_type": "pyout",
       "prompt_number": 30,
       "text": [
        "[[datetime.datetime(2012, 11, 1, 0, 0),\n",
        "  20.92,\n",
        "  21.06,\n",
        "  20.68,\n",
        "  20.85,\n",
        "  22638800,\n",
        "  20.8],\n",
        " [datetime.datetime(2012, 11, 5, 0, 0),\n",
        "  20.63,\n",
        "  21.45,\n",
        "  20.43,\n",
        "  21.24,\n",
        "  22746700,\n",
        "  21.2],\n",
        " [datetime.datetime(2012, 11, 6, 0, 0),\n",
        "  21.44,\n",
        "  21.8,\n",
        "  21.27,\n",
        "  21.68,\n",
        "  21288700,\n",
        "  21.6]]"
       ]
      }
     ],
     "prompt_number": 30
    },
    {
     "cell_type": "code",
     "collapsed": false,
     "input": [
      "import sources.pynvest as pyn"
     ],
     "language": "python",
     "metadata": {},
     "outputs": [],
     "prompt_number": 27
    },
    {
     "cell_type": "code",
     "collapsed": false,
     "input": [
      "resultPyn = pyn.historical_prices(\"PETR4.SA\", startDate, endDate)\n",
      "resultPyn"
     ],
     "language": "python",
     "metadata": {},
     "outputs": [
      {
       "output_type": "pyout",
       "prompt_number": 31,
       "text": [
        "[HistoricalPrice(date=datetime.date(2012, 11, 6), open=Decimal('21.44'), high=Decimal('21.80'), low=Decimal('21.27'), close=Decimal('21.68'), volume=Decimal('21288700'), adj_close=Decimal('21.68')),\n",
        " HistoricalPrice(date=datetime.date(2012, 11, 5), open=Decimal('20.63'), high=Decimal('21.45'), low=Decimal('20.43'), close=Decimal('21.24'), volume=Decimal('22746700'), adj_close=Decimal('21.24')),\n",
        " HistoricalPrice(date=datetime.date(2012, 11, 1), open=Decimal('20.92'), high=Decimal('21.06'), low=Decimal('20.68'), close=Decimal('20.85'), volume=Decimal('22638800'), adj_close=Decimal('20.85'))]"
       ]
      }
     ],
     "prompt_number": 31
    },
    {
     "cell_type": "code",
     "collapsed": false,
     "input": [
      "pyn.splits(\"HRTP3.SA\")"
     ],
     "language": "python",
     "metadata": {},
     "outputs": [
      {
       "output_type": "pyout",
       "prompt_number": 35,
       "text": [
        "[Split(date=datetime.date(2012, 5, 29), before=1, after=50)]"
       ]
      }
     ],
     "prompt_number": 35
    },
    {
     "cell_type": "code",
     "collapsed": false,
     "input": [
      "pyn.splits(\"PETR4.SA\")"
     ],
     "language": "python",
     "metadata": {},
     "outputs": [
      {
       "output_type": "pyout",
       "prompt_number": 36,
       "text": [
        "[Split(date=datetime.date(2008, 4, 28), before=1, after=2),\n",
        " Split(date=datetime.date(2005, 9, 1), before=1, after=4),\n",
        " Split(date=datetime.date(2000, 6, 21), before=100, after=1)]"
       ]
      }
     ],
     "prompt_number": 36
    }
   ],
   "metadata": {}
  }
 ]
}