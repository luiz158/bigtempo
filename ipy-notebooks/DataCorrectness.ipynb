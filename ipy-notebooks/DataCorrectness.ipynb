{
 "metadata": {
  "name": "DataCorrectness"
 },
 "nbformat": 3,
 "nbformat_minor": 0,
 "worksheets": [
  {
   "cells": [
    {
     "cell_type": "code",
     "collapsed": false,
     "input": [
      "import providers.raw as raw"
     ],
     "language": "python",
     "metadata": {},
     "outputs": [],
     "prompt_number": 5
    },
    {
     "cell_type": "code",
     "collapsed": false,
     "input": [
      "import os\n",
      "raw.config.DATA_DIR = os.path.abspath('../stockExperiments/sources/data')\n",
      "raw.config.DATA_DIR"
     ],
     "language": "python",
     "metadata": {},
     "outputs": [
      {
       "output_type": "pyout",
       "prompt_number": 8,
       "text": [
        "'/data/dev/workspace-py/stockExperiments/stockExperiments/sources/data'"
       ]
      }
     ],
     "prompt_number": 8
    },
    {
     "cell_type": "code",
     "collapsed": false,
     "input": [
      "s_symbol = 'PETR4'"
     ],
     "language": "python",
     "metadata": {},
     "outputs": [],
     "prompt_number": 9
    },
    {
     "cell_type": "code",
     "collapsed": false,
     "input": [
      "cotahist_provider = raw.CotahistProvider()"
     ],
     "language": "python",
     "metadata": {},
     "outputs": [],
     "prompt_number": 10
    },
    {
     "cell_type": "code",
     "collapsed": false,
     "input": [
      "raw_data = cotahist_provider.load(s_symbol)\n",
      "raw_data"
     ],
     "language": "python",
     "metadata": {},
     "outputs": [
      {
       "output_type": "pyout",
       "prompt_number": 12,
       "text": [
        "<class 'pandas.core.frame.DataFrame'>\n",
        "Index: 1236 entries, 2007-01-02 to 2011-12-29\n",
        "Data columns:\n",
        "open      1236  non-null values\n",
        "high      1236  non-null values\n",
        "low       1236  non-null values\n",
        "close     1236  non-null values\n",
        "volume    1236  non-null values\n",
        "dtypes: float64(4), int64(1)"
       ]
      }
     ],
     "prompt_number": 12
    },
    {
     "cell_type": "code",
     "collapsed": false,
     "input": [
      "lastDate = raw_data.ix[0].name\n",
      "for row in raw_data.iterrows():\n",
      "    if row[0] < lastDate:\n",
      "        print 'Error'\n",
      "    lastDate = row[0]"
     ],
     "language": "python",
     "metadata": {},
     "outputs": [],
     "prompt_number": 19
    },
    {
     "cell_type": "markdown",
     "metadata": {},
     "source": [
      "-----------------------------------------------------"
     ]
    },
    {
     "cell_type": "code",
     "collapsed": false,
     "input": [],
     "language": "python",
     "metadata": {},
     "outputs": [],
     "prompt_number": 22
    }
   ],
   "metadata": {}
  }
 ]
}