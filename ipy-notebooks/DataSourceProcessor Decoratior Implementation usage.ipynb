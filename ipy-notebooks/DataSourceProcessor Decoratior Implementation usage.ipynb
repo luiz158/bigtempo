{
 "metadata": {
  "name": "DataSourceProcessor Decoratior Implementation usage"
 },
 "nbformat": 3,
 "nbformat_minor": 0,
 "worksheets": [
  {
   "cells": [
    {
     "cell_type": "code",
     "collapsed": false,
     "input": [
      "import talib\n",
      "import pandas\n",
      "from datetime import date as dt\n",
      "\n",
      "import providers.locator as locator\n",
      "import providers.byproduct as byproduct\n",
      "\n",
      "c_locator = locator.stock()"
     ],
     "language": "python",
     "metadata": {},
     "outputs": [],
     "prompt_number": 1
    },
    {
     "cell_type": "code",
     "collapsed": false,
     "input": [
      "from instances import data_engine"
     ],
     "language": "python",
     "metadata": {},
     "outputs": [],
     "prompt_number": 2
    },
    {
     "cell_type": "code",
     "collapsed": false,
     "input": [
      "from datasources import *"
     ],
     "language": "python",
     "metadata": {},
     "outputs": [],
     "prompt_number": 3
    },
    {
     "cell_type": "code",
     "collapsed": false,
     "input": [
      "sorted(data_engine.select().all())"
     ],
     "language": "python",
     "metadata": {},
     "outputs": [
      {
       "output_type": "pyout",
       "prompt_number": 5,
       "text": [
        "['CLOSE:MONTHLY:NORMALIZED:RAW_BOVESPA',\n",
        " 'CLOSE:NORMALIZED:RAW_BOVESPA',\n",
        " 'CLOSE:WEEKLY:NORMALIZED:RAW_BOVESPA',\n",
        " 'MACD(12,26,3):CLOSE:MONTHLY:NORMALIZED:RAW_BOVESPA',\n",
        " 'MACD(12,26,3):CLOSE:NORMALIZED:RAW_BOVESPA',\n",
        " 'MACD(12,26,3):CLOSE:WEEKLY:NORMALIZED:RAW_BOVESPA',\n",
        " 'MACD(12,26,9):CLOSE:MONTHLY:NORMALIZED:RAW_BOVESPA',\n",
        " 'MACD(12,26,9):CLOSE:NORMALIZED:RAW_BOVESPA',\n",
        " 'MACD(12,26,9):CLOSE:WEEKLY:NORMALIZED:RAW_BOVESPA',\n",
        " 'MACD(5,35,5):CLOSE:MONTHLY:NORMALIZED:RAW_BOVESPA',\n",
        " 'MACD(5,35,5):CLOSE:NORMALIZED:RAW_BOVESPA',\n",
        " 'MACD(5,35,5):CLOSE:WEEKLY:NORMALIZED:RAW_BOVESPA',\n",
        " 'MONTHLY:NORMALIZED:RAW_BOVESPA',\n",
        " 'NORMALIZATION_FACTOR:SPLITS:PCT_CHANGE(1):RAW_BOVESPA',\n",
        " 'NORMALIZED:RAW_BOVESPA',\n",
        " 'PCT_CHANGE(1):RAW_BOVESPA',\n",
        " 'RAW_BOVESPA',\n",
        " 'SPLITS:PCT_CHANGE(1):RAW_BOVESPA']"
       ]
      }
     ],
     "prompt_number": 5
    },
    {
     "cell_type": "code",
     "collapsed": false,
     "input": [
      "def execute_all():\n",
      "    for name, ds in data_engine.select().all().get().iteritems():\n",
      "        print 'Executing %s' % name,\n",
      "        result = ds.process(symbol='PETR4')\n",
      "        print ': resulted data for %i periods.' % len(result)"
     ],
     "language": "python",
     "metadata": {},
     "outputs": [],
     "prompt_number": 11
    },
    {
     "cell_type": "code",
     "collapsed": false,
     "input": [
      "%timeit execute_all()"
     ],
     "language": "python",
     "metadata": {},
     "outputs": [
      {
       "output_type": "stream",
       "stream": "stdout",
       "text": [
        "Executing MACD(12,26,9):CLOSE:NORMALIZED:RAW_BOVESPA : resulted data for 3245 periods.\n",
        "Executing CLOSE:MONTHLY:NORMALIZED:RAW_BOVESPA "
       ]
      },
      {
       "output_type": "stream",
       "stream": "stdout",
       "text": [
        ": resulted data for 159 periods.\n",
        "Executing MACD(5,35,5):CLOSE:MONTHLY:NORMALIZED:RAW_BOVESPA : resulted data for 121 periods.\n",
        "Executing CLOSE:WEEKLY:NORMALIZED:RAW_BOVESPA "
       ]
      },
      {
       "output_type": "stream",
       "stream": "stdout",
       "text": [
        ": resulted data for 691 periods.\n",
        "Executing MACD(12,26,3):CLOSE:WEEKLY:NORMALIZED:RAW_BOVESPA : resulted data for 664 periods.\n",
        "Executing NORMALIZED:RAW_BOVESPA : resulted data for 3278 periods.\n",
        "Executing WEEKLY:NORMALIZED:RAW_BOVESPA "
       ]
      },
      {
       "output_type": "stream",
       "stream": "stdout",
       "text": [
        ": resulted data for 691 periods.\n",
        "Executing SPLITS:PCT_CHANGE(1):RAW_BOVESPA : resulted data for 3 periods.\n",
        "Executing MACD(5,35,5):CLOSE:WEEKLY:NORMALIZED:RAW_BOVESPA : resulted data for 653 periods.\n",
        "Executing CLOSE:NORMALIZED:RAW_BOVESPA : resulted data for 3278 periods.\n",
        "Executing RAW_BOVESPA : resulted data for 3278 periods.\n",
        "Executing MONTHLY:NORMALIZED:RAW_BOVESPA "
       ]
      },
      {
       "output_type": "stream",
       "stream": "stdout",
       "text": [
        ": resulted data for 159 periods.\n",
        "Executing MACD(12,26,3):CLOSE:NORMALIZED:RAW_BOVESPA : resulted data for 3251 periods.\n",
        "Executing PCT_CHANGE(1):RAW_BOVESPA : resulted data for 3278 periods.\n",
        "Executing MACD(12,26,9):CLOSE:WEEKLY:NORMALIZED:RAW_BOVESPA : resulted data for 658 periods.\n",
        "Executing MACD(12,26,9):CLOSE:MONTHLY:NORMALIZED:RAW_BOVESPA "
       ]
      },
      {
       "output_type": "stream",
       "stream": "stdout",
       "text": [
        ": resulted data for 126 periods.\n",
        "Executing MACD(5,35,5):CLOSE:NORMALIZED:RAW_BOVESPA : resulted data for 3240 periods.\n",
        "Executing NORMALIZATION_FACTOR:SPLITS:PCT_CHANGE(1):RAW_BOVESPA : resulted data for 3512 periods.\n",
        "Executing MACD(12,26,3):CLOSE:MONTHLY:NORMALIZED:RAW_BOVESPA "
       ]
      },
      {
       "output_type": "stream",
       "stream": "stdout",
       "text": [
        ": resulted data for 132 periods.\n",
        "Executing MACD(12,26,9):CLOSE:NORMALIZED:RAW_BOVESPA : resulted data for 3245 periods.\n",
        "Executing CLOSE:MONTHLY:NORMALIZED:RAW_BOVESPA "
       ]
      },
      {
       "output_type": "stream",
       "stream": "stdout",
       "text": [
        ": resulted data for 159 periods.\n",
        "Executing MACD(5,35,5):CLOSE:MONTHLY:NORMALIZED:RAW_BOVESPA : resulted data for 121 periods.\n",
        "Executing CLOSE:WEEKLY:NORMALIZED:RAW_BOVESPA "
       ]
      },
      {
       "output_type": "stream",
       "stream": "stdout",
       "text": [
        ": resulted data for 691 periods.\n",
        "Executing MACD(12,26,3):CLOSE:WEEKLY:NORMALIZED:RAW_BOVESPA : resulted data for 664 periods.\n",
        "Executing NORMALIZED:RAW_BOVESPA : resulted data for 3278 periods.\n",
        "Executing WEEKLY:NORMALIZED:RAW_BOVESPA "
       ]
      },
      {
       "output_type": "stream",
       "stream": "stdout",
       "text": [
        ": resulted data for 691 periods.\n",
        "Executing SPLITS:PCT_CHANGE(1):RAW_BOVESPA : resulted data for 3 periods.\n",
        "Executing MACD(5,35,5):CLOSE:WEEKLY:NORMALIZED:RAW_BOVESPA : resulted data for 653 periods.\n",
        "Executing CLOSE:NORMALIZED:RAW_BOVESPA : resulted data for 3278 periods.\n",
        "Executing RAW_BOVESPA : resulted data for 3278 periods.\n",
        "Executing MONTHLY:NORMALIZED:RAW_BOVESPA "
       ]
      },
      {
       "output_type": "stream",
       "stream": "stdout",
       "text": [
        ": resulted data for 159 periods.\n",
        "Executing MACD(12,26,3):CLOSE:NORMALIZED:RAW_BOVESPA : resulted data for 3251 periods.\n",
        "Executing PCT_CHANGE(1):RAW_BOVESPA : resulted data for 3278 periods.\n",
        "Executing MACD(12,26,9):CLOSE:WEEKLY:NORMALIZED:RAW_BOVESPA : resulted data for 658 periods.\n",
        "Executing MACD(12,26,9):CLOSE:MONTHLY:NORMALIZED:RAW_BOVESPA "
       ]
      },
      {
       "output_type": "stream",
       "stream": "stdout",
       "text": [
        ": resulted data for 126 periods.\n",
        "Executing MACD(5,35,5):CLOSE:NORMALIZED:RAW_BOVESPA : resulted data for 3240 periods.\n",
        "Executing NORMALIZATION_FACTOR:SPLITS:PCT_CHANGE(1):RAW_BOVESPA : resulted data for 3512 periods.\n",
        "Executing MACD(12,26,3):CLOSE:MONTHLY:NORMALIZED:RAW_BOVESPA "
       ]
      },
      {
       "output_type": "stream",
       "stream": "stdout",
       "text": [
        ": resulted data for 132 periods.\n",
        "Executing MACD(12,26,9):CLOSE:NORMALIZED:RAW_BOVESPA : resulted data for 3245 periods.\n",
        "Executing CLOSE:MONTHLY:NORMALIZED:RAW_BOVESPA "
       ]
      },
      {
       "output_type": "stream",
       "stream": "stdout",
       "text": [
        ": resulted data for 159 periods.\n",
        "Executing MACD(5,35,5):CLOSE:MONTHLY:NORMALIZED:RAW_BOVESPA : resulted data for 121 periods.\n",
        "Executing CLOSE:WEEKLY:NORMALIZED:RAW_BOVESPA "
       ]
      },
      {
       "output_type": "stream",
       "stream": "stdout",
       "text": [
        ": resulted data for 691 periods.\n",
        "Executing MACD(12,26,3):CLOSE:WEEKLY:NORMALIZED:RAW_BOVESPA : resulted data for 664 periods.\n",
        "Executing NORMALIZED:RAW_BOVESPA : resulted data for 3278 periods.\n",
        "Executing WEEKLY:NORMALIZED:RAW_BOVESPA "
       ]
      },
      {
       "output_type": "stream",
       "stream": "stdout",
       "text": [
        ": resulted data for 691 periods.\n",
        "Executing SPLITS:PCT_CHANGE(1):RAW_BOVESPA : resulted data for 3 periods.\n",
        "Executing MACD(5,35,5):CLOSE:WEEKLY:NORMALIZED:RAW_BOVESPA : resulted data for 653 periods.\n",
        "Executing CLOSE:NORMALIZED:RAW_BOVESPA : resulted data for 3278 periods.\n",
        "Executing RAW_BOVESPA : resulted data for 3278 periods.\n",
        "Executing MONTHLY:NORMALIZED:RAW_BOVESPA "
       ]
      },
      {
       "output_type": "stream",
       "stream": "stdout",
       "text": [
        ": resulted data for 159 periods.\n",
        "Executing MACD(12,26,3):CLOSE:NORMALIZED:RAW_BOVESPA : resulted data for 3251 periods.\n",
        "Executing PCT_CHANGE(1):RAW_BOVESPA : resulted data for 3278 periods.\n",
        "Executing MACD(12,26,9):CLOSE:WEEKLY:NORMALIZED:RAW_BOVESPA : resulted data for 658 periods.\n",
        "Executing MACD(12,26,9):CLOSE:MONTHLY:NORMALIZED:RAW_BOVESPA "
       ]
      },
      {
       "output_type": "stream",
       "stream": "stdout",
       "text": [
        ": resulted data for 126 periods.\n",
        "Executing MACD(5,35,5):CLOSE:NORMALIZED:RAW_BOVESPA : resulted data for 3240 periods.\n",
        "Executing NORMALIZATION_FACTOR:SPLITS:PCT_CHANGE(1):RAW_BOVESPA : resulted data for 3512 periods.\n",
        "Executing MACD(12,26,3):CLOSE:MONTHLY:NORMALIZED:RAW_BOVESPA "
       ]
      },
      {
       "output_type": "stream",
       "stream": "stdout",
       "text": [
        ": resulted data for 132 periods.\n",
        "Executing MACD(12,26,9):CLOSE:NORMALIZED:RAW_BOVESPA : resulted data for 3245 periods.\n",
        "Executing CLOSE:MONTHLY:NORMALIZED:RAW_BOVESPA "
       ]
      },
      {
       "output_type": "stream",
       "stream": "stdout",
       "text": [
        ": resulted data for 159 periods.\n",
        "Executing MACD(5,35,5):CLOSE:MONTHLY:NORMALIZED:RAW_BOVESPA : resulted data for 121 periods.\n",
        "Executing CLOSE:WEEKLY:NORMALIZED:RAW_BOVESPA "
       ]
      },
      {
       "output_type": "stream",
       "stream": "stdout",
       "text": [
        ": resulted data for 691 periods.\n",
        "Executing MACD(12,26,3):CLOSE:WEEKLY:NORMALIZED:RAW_BOVESPA : resulted data for 664 periods.\n",
        "Executing NORMALIZED:RAW_BOVESPA : resulted data for 3278 periods.\n",
        "Executing WEEKLY:NORMALIZED:RAW_BOVESPA "
       ]
      },
      {
       "output_type": "stream",
       "stream": "stdout",
       "text": [
        ": resulted data for 691 periods.\n",
        "Executing SPLITS:PCT_CHANGE(1):RAW_BOVESPA : resulted data for 3 periods.\n",
        "Executing MACD(5,35,5):CLOSE:WEEKLY:NORMALIZED:RAW_BOVESPA : resulted data for 653 periods.\n",
        "Executing CLOSE:NORMALIZED:RAW_BOVESPA : resulted data for 3278 periods.\n",
        "Executing RAW_BOVESPA : resulted data for 3278 periods.\n",
        "Executing MONTHLY:NORMALIZED:RAW_BOVESPA "
       ]
      },
      {
       "output_type": "stream",
       "stream": "stdout",
       "text": [
        ": resulted data for 159 periods.\n",
        "Executing MACD(12,26,3):CLOSE:NORMALIZED:RAW_BOVESPA : resulted data for 3251 periods.\n",
        "Executing PCT_CHANGE(1):RAW_BOVESPA : resulted data for 3278 periods.\n",
        "Executing MACD(12,26,9):CLOSE:WEEKLY:NORMALIZED:RAW_BOVESPA : resulted data for 658 periods.\n",
        "Executing MACD(12,26,9):CLOSE:MONTHLY:NORMALIZED:RAW_BOVESPA "
       ]
      },
      {
       "output_type": "stream",
       "stream": "stdout",
       "text": [
        ": resulted data for 126 periods.\n",
        "Executing MACD(5,35,5):CLOSE:NORMALIZED:RAW_BOVESPA : resulted data for 3240 periods.\n",
        "Executing NORMALIZATION_FACTOR:SPLITS:PCT_CHANGE(1):RAW_BOVESPA : resulted data for 3512 periods.\n",
        "Executing MACD(12,26,3):CLOSE:MONTHLY:NORMALIZED:RAW_BOVESPA "
       ]
      },
      {
       "output_type": "stream",
       "stream": "stdout",
       "text": [
        ": resulted data for 132 periods.\n",
        "1 loops, best of 3: 387 ms per loop\n"
       ]
      }
     ],
     "prompt_number": 12
    },
    {
     "cell_type": "markdown",
     "metadata": {},
     "source": [
      "-----------------------------------------------------"
     ]
    },
    {
     "cell_type": "code",
     "collapsed": false,
     "input": [
      "data_engine.select('NORMALIZED', '{RAW_BOVESPA}').get(0).process(symbol='PETR4', start=dt(2013, 1, 1), end=dt(2013, 2, 1))"
     ],
     "language": "python",
     "metadata": {},
     "outputs": [
      {
       "html": [
        "<div style=\"max-height:1000px;max-width:1500px;overflow:auto;\">\n",
        "<table border=\"1\" class=\"dataframe\">\n",
        "  <thead>\n",
        "    <tr style=\"text-align: right;\">\n",
        "      <th></th>\n",
        "      <th>open</th>\n",
        "      <th>high</th>\n",
        "      <th>low</th>\n",
        "      <th>close</th>\n",
        "      <th>volume</th>\n",
        "    </tr>\n",
        "  </thead>\n",
        "  <tbody>\n",
        "    <tr>\n",
        "      <th>2013-01-02</th>\n",
        "      <td> 19.99</td>\n",
        "      <td> 20.21</td>\n",
        "      <td> 19.69</td>\n",
        "      <td> 19.69</td>\n",
        "      <td> 30182600</td>\n",
        "    </tr>\n",
        "    <tr>\n",
        "      <th>2013-01-03</th>\n",
        "      <td> 19.81</td>\n",
        "      <td> 20.40</td>\n",
        "      <td> 19.70</td>\n",
        "      <td> 20.40</td>\n",
        "      <td> 30552600</td>\n",
        "    </tr>\n",
        "    <tr>\n",
        "      <th>2013-01-04</th>\n",
        "      <td> 20.33</td>\n",
        "      <td> 20.62</td>\n",
        "      <td> 20.17</td>\n",
        "      <td> 20.48</td>\n",
        "      <td> 36141000</td>\n",
        "    </tr>\n",
        "    <tr>\n",
        "      <th>2013-01-07</th>\n",
        "      <td> 20.48</td>\n",
        "      <td> 20.67</td>\n",
        "      <td> 19.95</td>\n",
        "      <td> 20.08</td>\n",
        "      <td> 28069600</td>\n",
        "    </tr>\n",
        "    <tr>\n",
        "      <th>2013-01-08</th>\n",
        "      <td> 20.11</td>\n",
        "      <td> 20.23</td>\n",
        "      <td> 19.46</td>\n",
        "      <td> 19.50</td>\n",
        "      <td> 29091300</td>\n",
        "    </tr>\n",
        "    <tr>\n",
        "      <th>2013-01-09</th>\n",
        "      <td> 19.64</td>\n",
        "      <td> 19.87</td>\n",
        "      <td> 19.46</td>\n",
        "      <td> 19.68</td>\n",
        "      <td> 24361100</td>\n",
        "    </tr>\n",
        "    <tr>\n",
        "      <th>2013-01-10</th>\n",
        "      <td> 19.77</td>\n",
        "      <td> 19.88</td>\n",
        "      <td> 19.54</td>\n",
        "      <td> 19.83</td>\n",
        "      <td> 17526200</td>\n",
        "    </tr>\n",
        "    <tr>\n",
        "      <th>2013-01-11</th>\n",
        "      <td> 19.85</td>\n",
        "      <td> 20.04</td>\n",
        "      <td> 19.70</td>\n",
        "      <td> 19.88</td>\n",
        "      <td> 18221600</td>\n",
        "    </tr>\n",
        "    <tr>\n",
        "      <th>2013-01-14</th>\n",
        "      <td> 20.01</td>\n",
        "      <td> 20.24</td>\n",
        "      <td> 19.76</td>\n",
        "      <td> 19.85</td>\n",
        "      <td> 28302400</td>\n",
        "    </tr>\n",
        "    <tr>\n",
        "      <th>2013-01-15</th>\n",
        "      <td> 20.11</td>\n",
        "      <td> 20.15</td>\n",
        "      <td> 19.78</td>\n",
        "      <td> 19.82</td>\n",
        "      <td> 29633900</td>\n",
        "    </tr>\n",
        "    <tr>\n",
        "      <th>2013-01-16</th>\n",
        "      <td> 19.89</td>\n",
        "      <td> 19.89</td>\n",
        "      <td> 19.60</td>\n",
        "      <td> 19.84</td>\n",
        "      <td> 16787800</td>\n",
        "    </tr>\n",
        "    <tr>\n",
        "      <th>2013-01-17</th>\n",
        "      <td> 19.86</td>\n",
        "      <td> 19.93</td>\n",
        "      <td> 19.69</td>\n",
        "      <td> 19.71</td>\n",
        "      <td> 19719600</td>\n",
        "    </tr>\n",
        "    <tr>\n",
        "      <th>2013-01-18</th>\n",
        "      <td> 19.80</td>\n",
        "      <td> 19.89</td>\n",
        "      <td> 19.58</td>\n",
        "      <td> 19.58</td>\n",
        "      <td> 18913900</td>\n",
        "    </tr>\n",
        "    <tr>\n",
        "      <th>2013-01-21</th>\n",
        "      <td> 19.57</td>\n",
        "      <td> 19.60</td>\n",
        "      <td> 19.27</td>\n",
        "      <td> 19.39</td>\n",
        "      <td> 18084200</td>\n",
        "    </tr>\n",
        "    <tr>\n",
        "      <th>2013-01-22</th>\n",
        "      <td> 19.42</td>\n",
        "      <td> 19.58</td>\n",
        "      <td> 19.23</td>\n",
        "      <td> 19.58</td>\n",
        "      <td> 23535100</td>\n",
        "    </tr>\n",
        "    <tr>\n",
        "      <th>2013-01-23</th>\n",
        "      <td> 19.50</td>\n",
        "      <td> 19.63</td>\n",
        "      <td> 19.43</td>\n",
        "      <td> 19.55</td>\n",
        "      <td> 17200800</td>\n",
        "    </tr>\n",
        "    <tr>\n",
        "      <th>2013-01-24</th>\n",
        "      <td> 19.37</td>\n",
        "      <td> 19.73</td>\n",
        "      <td> 19.37</td>\n",
        "      <td> 19.61</td>\n",
        "      <td> 19612600</td>\n",
        "    </tr>\n",
        "    <tr>\n",
        "      <th>2013-01-28</th>\n",
        "      <td> 19.73</td>\n",
        "      <td> 19.81</td>\n",
        "      <td> 19.30</td>\n",
        "      <td> 19.37</td>\n",
        "      <td> 20122600</td>\n",
        "    </tr>\n",
        "    <tr>\n",
        "      <th>2013-01-29</th>\n",
        "      <td> 19.35</td>\n",
        "      <td> 19.37</td>\n",
        "      <td> 18.84</td>\n",
        "      <td> 19.11</td>\n",
        "      <td> 27097800</td>\n",
        "    </tr>\n",
        "    <tr>\n",
        "      <th>2013-01-30</th>\n",
        "      <td> 18.99</td>\n",
        "      <td> 18.99</td>\n",
        "      <td> 18.17</td>\n",
        "      <td> 18.20</td>\n",
        "      <td> 66973800</td>\n",
        "    </tr>\n",
        "    <tr>\n",
        "      <th>2013-01-31</th>\n",
        "      <td> 18.26</td>\n",
        "      <td> 18.33</td>\n",
        "      <td> 17.90</td>\n",
        "      <td> 18.08</td>\n",
        "      <td> 33241400</td>\n",
        "    </tr>\n",
        "    <tr>\n",
        "      <th>2013-02-01</th>\n",
        "      <td> 18.14</td>\n",
        "      <td> 18.65</td>\n",
        "      <td> 18.12</td>\n",
        "      <td> 18.46</td>\n",
        "      <td> 28860200</td>\n",
        "    </tr>\n",
        "  </tbody>\n",
        "</table>\n",
        "</div>"
       ],
       "output_type": "pyout",
       "prompt_number": 5,
       "text": [
        "             open   high    low  close    volume\n",
        "2013-01-02  19.99  20.21  19.69  19.69  30182600\n",
        "2013-01-03  19.81  20.40  19.70  20.40  30552600\n",
        "2013-01-04  20.33  20.62  20.17  20.48  36141000\n",
        "2013-01-07  20.48  20.67  19.95  20.08  28069600\n",
        "2013-01-08  20.11  20.23  19.46  19.50  29091300\n",
        "2013-01-09  19.64  19.87  19.46  19.68  24361100\n",
        "2013-01-10  19.77  19.88  19.54  19.83  17526200\n",
        "2013-01-11  19.85  20.04  19.70  19.88  18221600\n",
        "2013-01-14  20.01  20.24  19.76  19.85  28302400\n",
        "2013-01-15  20.11  20.15  19.78  19.82  29633900\n",
        "2013-01-16  19.89  19.89  19.60  19.84  16787800\n",
        "2013-01-17  19.86  19.93  19.69  19.71  19719600\n",
        "2013-01-18  19.80  19.89  19.58  19.58  18913900\n",
        "2013-01-21  19.57  19.60  19.27  19.39  18084200\n",
        "2013-01-22  19.42  19.58  19.23  19.58  23535100\n",
        "2013-01-23  19.50  19.63  19.43  19.55  17200800\n",
        "2013-01-24  19.37  19.73  19.37  19.61  19612600\n",
        "2013-01-28  19.73  19.81  19.30  19.37  20122600\n",
        "2013-01-29  19.35  19.37  18.84  19.11  27097800\n",
        "2013-01-30  18.99  18.99  18.17  18.20  66973800\n",
        "2013-01-31  18.26  18.33  17.90  18.08  33241400\n",
        "2013-02-01  18.14  18.65  18.12  18.46  28860200"
       ]
      }
     ],
     "prompt_number": 5
    },
    {
     "cell_type": "code",
     "collapsed": false,
     "input": [
      "data_engine.get('MONTHLY:NORMALIZED:RAW_BOVESPA').process(symbol='PETR4', start=dt(2013, 1, 5), end=dt(2013, 2, 6))"
     ],
     "language": "python",
     "metadata": {},
     "outputs": [
      {
       "output_type": "pyout",
       "prompt_number": 10,
       "text": [
        "1"
       ]
      }
     ],
     "prompt_number": 10
    },
    {
     "cell_type": "code",
     "collapsed": false,
     "input": [],
     "language": "python",
     "metadata": {},
     "outputs": []
    }
   ],
   "metadata": {}
  }
 ]
}