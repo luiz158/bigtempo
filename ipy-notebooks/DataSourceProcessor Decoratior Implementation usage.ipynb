{
 "metadata": {
  "name": "DataSourceProcessor Decoratior Implementation usage"
 },
 "nbformat": 3,
 "nbformat_minor": 0,
 "worksheets": [
  {
   "cells": [
    {
     "cell_type": "code",
     "collapsed": false,
     "input": [
      "import talib\n",
      "import pandas\n",
      "from datetime import date as dt\n",
      "\n",
      "import providers.locator as locator\n",
      "import providers.byproduct as byproduct\n",
      "\n",
      "c_locator = locator.stock()"
     ],
     "language": "python",
     "metadata": {},
     "outputs": [],
     "prompt_number": 1
    },
    {
     "cell_type": "code",
     "collapsed": false,
     "input": [
      "from instances import data_engine"
     ],
     "language": "python",
     "metadata": {},
     "outputs": [],
     "prompt_number": 2
    },
    {
     "cell_type": "code",
     "collapsed": false,
     "input": [
      "from datasources import *"
     ],
     "language": "python",
     "metadata": {},
     "outputs": [],
     "prompt_number": 3
    },
    {
     "cell_type": "code",
     "collapsed": false,
     "input": [
      "sorted(data_engine.select().all())"
     ],
     "language": "python",
     "metadata": {},
     "outputs": [
      {
       "output_type": "pyout",
       "prompt_number": 4,
       "text": [
        "['NORMALIZATION_FACTOR:SPLITS:PCT_CHANGE(1):RAW_BOVESPA',\n",
        " 'NORMALIZATION_FACTOR:SPLITS:PCT_CHANGE(1):RAW_YAHOO_BR',\n",
        " 'NORMALIZED:(RAW_BOVESPA, NORMALIZATION_FACTOR:SPLITS:PCT_CHANGE(1):RAW_BOVESPA)',\n",
        " 'NORMALIZED:(RAW_YAHOO_BR, NORMALIZATION_FACTOR:SPLITS:PCT_CHANGE(1):RAW_YAHOO_BR)',\n",
        " 'PCT_CHANGE(1):RAW_BOVESPA',\n",
        " 'PCT_CHANGE(1):RAW_YAHOO_BR',\n",
        " 'RAW_BOVESPA',\n",
        " 'RAW_YAHOO_BR',\n",
        " 'SPLITS:PCT_CHANGE(1):RAW_BOVESPA',\n",
        " 'SPLITS:PCT_CHANGE(1):RAW_YAHOO_BR']"
       ]
      }
     ],
     "prompt_number": 4
    },
    {
     "cell_type": "markdown",
     "metadata": {},
     "source": [
      "-----------------------------------------------------"
     ]
    },
    {
     "cell_type": "code",
     "collapsed": false,
     "input": [
      "@data_engine.datasource('Normalized')\n",
      "class Normalized(object):\n",
      "    \n",
      "    def evaluate(self, context, symbol, start=None, end=None):\n",
      "        return c_locator.get(byproduct.NormalizedCotationProvider).load(symbol, start, end)"
     ],
     "language": "python",
     "metadata": {},
     "outputs": [],
     "prompt_number": 5
    },
    {
     "cell_type": "code",
     "collapsed": false,
     "input": [
      "data_engine.get('Normalized').process(symbol='PETR4')"
     ],
     "language": "python",
     "metadata": {},
     "outputs": [
      {
       "output_type": "pyout",
       "prompt_number": 6,
       "text": [
        "<class 'pandas.core.frame.DataFrame'>\n",
        "DatetimeIndex: 3278 entries, 2000-01-03 00:00:00 to 2013-03-28 00:00:00\n",
        "Data columns:\n",
        "open      3278  non-null values\n",
        "high      3278  non-null values\n",
        "low       3278  non-null values\n",
        "close     3278  non-null values\n",
        "volume    3278  non-null values\n",
        "dtypes: float64(5)"
       ]
      }
     ],
     "prompt_number": 6
    },
    {
     "cell_type": "code",
     "collapsed": false,
     "input": [
      "a = data_engine.get('Normalized').process(symbol='PETR4', start=dt(2013, 2, 1), end=dt(2013, 3, 1))"
     ],
     "language": "python",
     "metadata": {},
     "outputs": [],
     "prompt_number": 7
    },
    {
     "cell_type": "code",
     "collapsed": false,
     "input": [
      "b = data_engine.select('NORMALIZED', '{RAW_BOVESPA}').get().values()[0].process(symbol='PETR4', start=dt(2013, 2, 1), end=dt(2013, 3, 1))"
     ],
     "language": "python",
     "metadata": {},
     "outputs": [],
     "prompt_number": 8
    },
    {
     "cell_type": "code",
     "collapsed": false,
     "input": [
      "a == b"
     ],
     "language": "python",
     "metadata": {},
     "outputs": [
      {
       "html": [
        "<div style=\"max-height:1000px;max-width:1500px;overflow:auto;\">\n",
        "<table border=\"1\" class=\"dataframe\">\n",
        "  <thead>\n",
        "    <tr style=\"text-align: right;\">\n",
        "      <th></th>\n",
        "      <th>open</th>\n",
        "      <th>high</th>\n",
        "      <th>low</th>\n",
        "      <th>close</th>\n",
        "      <th>volume</th>\n",
        "    </tr>\n",
        "  </thead>\n",
        "  <tbody>\n",
        "    <tr>\n",
        "      <th>2013-02-01</th>\n",
        "      <td> True</td>\n",
        "      <td> True</td>\n",
        "      <td> True</td>\n",
        "      <td> True</td>\n",
        "      <td> True</td>\n",
        "    </tr>\n",
        "    <tr>\n",
        "      <th>2013-02-04</th>\n",
        "      <td> True</td>\n",
        "      <td> True</td>\n",
        "      <td> True</td>\n",
        "      <td> True</td>\n",
        "      <td> True</td>\n",
        "    </tr>\n",
        "    <tr>\n",
        "      <th>2013-02-05</th>\n",
        "      <td> True</td>\n",
        "      <td> True</td>\n",
        "      <td> True</td>\n",
        "      <td> True</td>\n",
        "      <td> True</td>\n",
        "    </tr>\n",
        "    <tr>\n",
        "      <th>2013-02-06</th>\n",
        "      <td> True</td>\n",
        "      <td> True</td>\n",
        "      <td> True</td>\n",
        "      <td> True</td>\n",
        "      <td> True</td>\n",
        "    </tr>\n",
        "    <tr>\n",
        "      <th>2013-02-07</th>\n",
        "      <td> True</td>\n",
        "      <td> True</td>\n",
        "      <td> True</td>\n",
        "      <td> True</td>\n",
        "      <td> True</td>\n",
        "    </tr>\n",
        "    <tr>\n",
        "      <th>2013-02-08</th>\n",
        "      <td> True</td>\n",
        "      <td> True</td>\n",
        "      <td> True</td>\n",
        "      <td> True</td>\n",
        "      <td> True</td>\n",
        "    </tr>\n",
        "    <tr>\n",
        "      <th>2013-02-13</th>\n",
        "      <td> True</td>\n",
        "      <td> True</td>\n",
        "      <td> True</td>\n",
        "      <td> True</td>\n",
        "      <td> True</td>\n",
        "    </tr>\n",
        "    <tr>\n",
        "      <th>2013-02-14</th>\n",
        "      <td> True</td>\n",
        "      <td> True</td>\n",
        "      <td> True</td>\n",
        "      <td> True</td>\n",
        "      <td> True</td>\n",
        "    </tr>\n",
        "    <tr>\n",
        "      <th>2013-02-15</th>\n",
        "      <td> True</td>\n",
        "      <td> True</td>\n",
        "      <td> True</td>\n",
        "      <td> True</td>\n",
        "      <td> True</td>\n",
        "    </tr>\n",
        "    <tr>\n",
        "      <th>2013-02-18</th>\n",
        "      <td> True</td>\n",
        "      <td> True</td>\n",
        "      <td> True</td>\n",
        "      <td> True</td>\n",
        "      <td> True</td>\n",
        "    </tr>\n",
        "    <tr>\n",
        "      <th>2013-02-19</th>\n",
        "      <td> True</td>\n",
        "      <td> True</td>\n",
        "      <td> True</td>\n",
        "      <td> True</td>\n",
        "      <td> True</td>\n",
        "    </tr>\n",
        "    <tr>\n",
        "      <th>2013-02-20</th>\n",
        "      <td> True</td>\n",
        "      <td> True</td>\n",
        "      <td> True</td>\n",
        "      <td> True</td>\n",
        "      <td> True</td>\n",
        "    </tr>\n",
        "    <tr>\n",
        "      <th>2013-02-21</th>\n",
        "      <td> True</td>\n",
        "      <td> True</td>\n",
        "      <td> True</td>\n",
        "      <td> True</td>\n",
        "      <td> True</td>\n",
        "    </tr>\n",
        "    <tr>\n",
        "      <th>2013-02-22</th>\n",
        "      <td> True</td>\n",
        "      <td> True</td>\n",
        "      <td> True</td>\n",
        "      <td> True</td>\n",
        "      <td> True</td>\n",
        "    </tr>\n",
        "    <tr>\n",
        "      <th>2013-02-25</th>\n",
        "      <td> True</td>\n",
        "      <td> True</td>\n",
        "      <td> True</td>\n",
        "      <td> True</td>\n",
        "      <td> True</td>\n",
        "    </tr>\n",
        "    <tr>\n",
        "      <th>2013-02-26</th>\n",
        "      <td> True</td>\n",
        "      <td> True</td>\n",
        "      <td> True</td>\n",
        "      <td> True</td>\n",
        "      <td> True</td>\n",
        "    </tr>\n",
        "    <tr>\n",
        "      <th>2013-02-27</th>\n",
        "      <td> True</td>\n",
        "      <td> True</td>\n",
        "      <td> True</td>\n",
        "      <td> True</td>\n",
        "      <td> True</td>\n",
        "    </tr>\n",
        "    <tr>\n",
        "      <th>2013-02-28</th>\n",
        "      <td> True</td>\n",
        "      <td> True</td>\n",
        "      <td> True</td>\n",
        "      <td> True</td>\n",
        "      <td> True</td>\n",
        "    </tr>\n",
        "    <tr>\n",
        "      <th>2013-03-01</th>\n",
        "      <td> True</td>\n",
        "      <td> True</td>\n",
        "      <td> True</td>\n",
        "      <td> True</td>\n",
        "      <td> True</td>\n",
        "    </tr>\n",
        "  </tbody>\n",
        "</table>\n",
        "</div>"
       ],
       "output_type": "pyout",
       "prompt_number": 9,
       "text": [
        "            open  high   low close volume\n",
        "2013-02-01  True  True  True  True   True\n",
        "2013-02-04  True  True  True  True   True\n",
        "2013-02-05  True  True  True  True   True\n",
        "2013-02-06  True  True  True  True   True\n",
        "2013-02-07  True  True  True  True   True\n",
        "2013-02-08  True  True  True  True   True\n",
        "2013-02-13  True  True  True  True   True\n",
        "2013-02-14  True  True  True  True   True\n",
        "2013-02-15  True  True  True  True   True\n",
        "2013-02-18  True  True  True  True   True\n",
        "2013-02-19  True  True  True  True   True\n",
        "2013-02-20  True  True  True  True   True\n",
        "2013-02-21  True  True  True  True   True\n",
        "2013-02-22  True  True  True  True   True\n",
        "2013-02-25  True  True  True  True   True\n",
        "2013-02-26  True  True  True  True   True\n",
        "2013-02-27  True  True  True  True   True\n",
        "2013-02-28  True  True  True  True   True\n",
        "2013-03-01  True  True  True  True   True"
       ]
      }
     ],
     "prompt_number": 9
    },
    {
     "cell_type": "code",
     "collapsed": false,
     "input": [
      "data_engine.select('NORMALIZED', '{RAW_BOVESPA}').get(0)"
     ],
     "language": "python",
     "metadata": {},
     "outputs": [
      {
       "ename": "TypeError",
       "evalue": "'set' object does not support indexing",
       "output_type": "pyerr",
       "traceback": [
        "\u001b[1;31m---------------------------------------------------------------------------\u001b[0m\n\u001b[1;31mTypeError\u001b[0m                                 Traceback (most recent call last)",
        "\u001b[1;32m<ipython-input-10-3dc0a83fc5ea>\u001b[0m in \u001b[0;36m<module>\u001b[1;34m()\u001b[0m\n\u001b[1;32m----> 1\u001b[1;33m \u001b[0mdata_engine\u001b[0m\u001b[1;33m.\u001b[0m\u001b[0mselect\u001b[0m\u001b[1;33m(\u001b[0m\u001b[1;34m'NORMALIZED'\u001b[0m\u001b[1;33m,\u001b[0m \u001b[1;34m'{RAW_BOVESPA}'\u001b[0m\u001b[1;33m)\u001b[0m\u001b[1;33m.\u001b[0m\u001b[0mget\u001b[0m\u001b[1;33m(\u001b[0m\u001b[1;36m0\u001b[0m\u001b[1;33m)\u001b[0m\u001b[1;33m\u001b[0m\u001b[0m\n\u001b[0m",
        "\u001b[1;32m/home/rhlobo/dev/workspace-py/stockExperiments/stockExperiments/bigtempo/tagselection.py\u001b[0m in \u001b[0;36mget\u001b[1;34m(self, index)\u001b[0m\n\u001b[0;32m     45\u001b[0m     \u001b[1;32mdef\u001b[0m \u001b[0mget\u001b[0m\u001b[1;33m(\u001b[0m\u001b[0mself\u001b[0m\u001b[1;33m,\u001b[0m \u001b[0mindex\u001b[0m\u001b[1;33m=\u001b[0m\u001b[0mNone\u001b[0m\u001b[1;33m)\u001b[0m\u001b[1;33m:\u001b[0m\u001b[1;33m\u001b[0m\u001b[0m\n\u001b[0;32m     46\u001b[0m         \u001b[1;32mif\u001b[0m \u001b[0mindex\u001b[0m \u001b[1;32mis\u001b[0m \u001b[1;32mnot\u001b[0m \u001b[0mNone\u001b[0m\u001b[1;33m:\u001b[0m\u001b[1;33m\u001b[0m\u001b[0m\n\u001b[1;32m---> 47\u001b[1;33m             \u001b[1;32mreturn\u001b[0m \u001b[0mself\u001b[0m\u001b[1;33m.\u001b[0m\u001b[0m_callable_factory\u001b[0m\u001b[1;33m(\u001b[0m\u001b[0mself\u001b[0m\u001b[1;33m.\u001b[0m\u001b[0m_selection\u001b[0m\u001b[1;33m[\u001b[0m\u001b[0mindex\u001b[0m\u001b[1;33m]\u001b[0m\u001b[1;33m)\u001b[0m\u001b[1;33m\u001b[0m\u001b[0m\n\u001b[0m\u001b[0;32m     48\u001b[0m \u001b[1;33m\u001b[0m\u001b[0m\n\u001b[0;32m     49\u001b[0m         \u001b[0mresult\u001b[0m \u001b[1;33m=\u001b[0m \u001b[1;33m{\u001b[0m\u001b[1;33m}\u001b[0m\u001b[1;33m\u001b[0m\u001b[0m\n",
        "\u001b[1;31mTypeError\u001b[0m: 'set' object does not support indexing"
       ]
      }
     ],
     "prompt_number": 10
    },
    {
     "cell_type": "code",
     "collapsed": false,
     "input": [],
     "language": "python",
     "metadata": {},
     "outputs": []
    }
   ],
   "metadata": {}
  }
 ]
}