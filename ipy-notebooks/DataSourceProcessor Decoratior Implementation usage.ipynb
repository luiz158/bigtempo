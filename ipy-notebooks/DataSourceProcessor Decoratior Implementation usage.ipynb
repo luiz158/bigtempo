{
 "metadata": {
  "name": "DataSourceProcessor Decoratior Implementation usage"
 },
 "nbformat": 3,
 "nbformat_minor": 0,
 "worksheets": [
  {
   "cells": [
    {
     "cell_type": "code",
     "collapsed": false,
     "input": [
      "import talib\n",
      "import pandas\n",
      "from datetime import date as dt\n",
      "\n",
      "import providers.locator as locator\n",
      "import providers.byproduct as byproduct\n",
      "\n",
      "c_locator = locator.stock()"
     ],
     "language": "python",
     "metadata": {},
     "outputs": [],
     "prompt_number": 1
    },
    {
     "cell_type": "code",
     "collapsed": false,
     "input": [
      "from instances import data_engine"
     ],
     "language": "python",
     "metadata": {},
     "outputs": [],
     "prompt_number": 2
    },
    {
     "cell_type": "code",
     "collapsed": false,
     "input": [
      "from datasources import *"
     ],
     "language": "python",
     "metadata": {},
     "outputs": [],
     "prompt_number": 3
    },
    {
     "cell_type": "code",
     "collapsed": false,
     "input": [
      "sorted(data_engine.select().all())"
     ],
     "language": "python",
     "metadata": {},
     "outputs": [
      {
       "output_type": "pyout",
       "prompt_number": 4,
       "text": [
        "['MACD(12,26,1):NORMALIZED:RAW_BOVESPA',\n",
        " 'MACD(12,26,1):NORMALIZED:RAW_YAHOO_BR',\n",
        " 'MACD(12,26,9):NORMALIZED:RAW_BOVESPA',\n",
        " 'MACD(12,26,9):NORMALIZED:RAW_YAHOO_BR',\n",
        " 'MACD(5,35,5):NORMALIZED:RAW_BOVESPA',\n",
        " 'MACD(5,35,5):NORMALIZED:RAW_YAHOO_BR',\n",
        " 'NORMALIZATION_FACTOR:SPLITS:PCT_CHANGE(1):RAW_BOVESPA',\n",
        " 'NORMALIZATION_FACTOR:SPLITS:PCT_CHANGE(1):RAW_YAHOO_BR',\n",
        " 'NORMALIZED:RAW_BOVESPA',\n",
        " 'NORMALIZED:RAW_YAHOO_BR',\n",
        " 'PCT_CHANGE(1):RAW_BOVESPA',\n",
        " 'PCT_CHANGE(1):RAW_YAHOO_BR',\n",
        " 'RAW_BOVESPA',\n",
        " 'RAW_YAHOO_BR',\n",
        " 'SPLITS:PCT_CHANGE(1):RAW_BOVESPA',\n",
        " 'SPLITS:PCT_CHANGE(1):RAW_YAHOO_BR',\n",
        " 'WEEKLY:NORMALIZED:RAW_BOVESPA',\n",
        " 'WEEKLY:NORMALIZED:RAW_YAHOO_BR']"
       ]
      }
     ],
     "prompt_number": 4
    },
    {
     "cell_type": "markdown",
     "metadata": {},
     "source": [
      "-----------------------------------------------------"
     ]
    },
    {
     "cell_type": "code",
     "collapsed": false,
     "input": [
      "n = data_engine.select('NORMALIZED', '{RAW_BOVESPA}').get(0).process(symbol='PETR4', start=dt(2012, 12, 23), end=dt(2012, 12, 28))"
     ],
     "language": "python",
     "metadata": {},
     "outputs": [],
     "prompt_number": 11
    },
    {
     "cell_type": "code",
     "collapsed": false,
     "input": [
      "n"
     ],
     "language": "python",
     "metadata": {},
     "outputs": [
      {
       "html": [
        "<div style=\"max-height:1000px;max-width:1500px;overflow:auto;\">\n",
        "<table border=\"1\" class=\"dataframe\">\n",
        "  <thead>\n",
        "    <tr style=\"text-align: right;\">\n",
        "      <th></th>\n",
        "      <th>open</th>\n",
        "      <th>high</th>\n",
        "      <th>low</th>\n",
        "      <th>close</th>\n",
        "      <th>volume</th>\n",
        "    </tr>\n",
        "  </thead>\n",
        "  <tbody>\n",
        "    <tr>\n",
        "      <th>2012-12-26</th>\n",
        "      <td> 20.54</td>\n",
        "      <td> 20.68</td>\n",
        "      <td> 20.06</td>\n",
        "      <td> 20.06</td>\n",
        "      <td> 24075000</td>\n",
        "    </tr>\n",
        "    <tr>\n",
        "      <th>2012-12-27</th>\n",
        "      <td> 20.06</td>\n",
        "      <td> 20.17</td>\n",
        "      <td> 19.35</td>\n",
        "      <td> 19.41</td>\n",
        "      <td> 29297000</td>\n",
        "    </tr>\n",
        "    <tr>\n",
        "      <th>2012-12-28</th>\n",
        "      <td> 19.50</td>\n",
        "      <td> 19.63</td>\n",
        "      <td> 19.30</td>\n",
        "      <td> 19.52</td>\n",
        "      <td> 28368600</td>\n",
        "    </tr>\n",
        "  </tbody>\n",
        "</table>\n",
        "</div>"
       ],
       "output_type": "pyout",
       "prompt_number": 12,
       "text": [
        "             open   high    low  close    volume\n",
        "2012-12-26  20.54  20.68  20.06  20.06  24075000\n",
        "2012-12-27  20.06  20.17  19.35  19.41  29297000\n",
        "2012-12-28  19.50  19.63  19.30  19.52  28368600"
       ]
      }
     ],
     "prompt_number": 12
    },
    {
     "cell_type": "code",
     "collapsed": false,
     "input": [
      "data_engine.get('WEEKLY:NORMALIZED:RAW_BOVESPA').process(symbol='PETR4', start=dt(2012, 12, 25), end=dt(2013, 2, 6))"
     ],
     "language": "python",
     "metadata": {},
     "outputs": [
      {
       "html": [
        "<div style=\"max-height:1000px;max-width:1500px;overflow:auto;\">\n",
        "<table border=\"1\" class=\"dataframe\">\n",
        "  <thead>\n",
        "    <tr style=\"text-align: right;\">\n",
        "      <th></th>\n",
        "      <th>open</th>\n",
        "      <th>high</th>\n",
        "      <th>low</th>\n",
        "      <th>close</th>\n",
        "      <th>volume</th>\n",
        "    </tr>\n",
        "  </thead>\n",
        "  <tbody>\n",
        "    <tr>\n",
        "      <th>2012-12-28</th>\n",
        "      <td> 20.54</td>\n",
        "      <td> 20.68</td>\n",
        "      <td> 19.30</td>\n",
        "      <td> 19.52</td>\n",
        "      <td>  81740600</td>\n",
        "    </tr>\n",
        "    <tr>\n",
        "      <th>2013-01-04</th>\n",
        "      <td> 19.99</td>\n",
        "      <td> 20.62</td>\n",
        "      <td> 19.69</td>\n",
        "      <td> 20.48</td>\n",
        "      <td>  96876200</td>\n",
        "    </tr>\n",
        "    <tr>\n",
        "      <th>2013-01-11</th>\n",
        "      <td> 20.48</td>\n",
        "      <td> 20.67</td>\n",
        "      <td> 19.46</td>\n",
        "      <td> 19.88</td>\n",
        "      <td> 117269800</td>\n",
        "    </tr>\n",
        "    <tr>\n",
        "      <th>2013-01-18</th>\n",
        "      <td> 20.01</td>\n",
        "      <td> 20.24</td>\n",
        "      <td> 19.58</td>\n",
        "      <td> 19.58</td>\n",
        "      <td> 113357600</td>\n",
        "    </tr>\n",
        "    <tr>\n",
        "      <th>2013-01-25</th>\n",
        "      <td> 19.57</td>\n",
        "      <td> 19.73</td>\n",
        "      <td> 19.23</td>\n",
        "      <td> 19.61</td>\n",
        "      <td>  78432700</td>\n",
        "    </tr>\n",
        "    <tr>\n",
        "      <th>2013-02-01</th>\n",
        "      <td> 19.73</td>\n",
        "      <td> 19.81</td>\n",
        "      <td> 17.90</td>\n",
        "      <td> 18.46</td>\n",
        "      <td> 176295800</td>\n",
        "    </tr>\n",
        "  </tbody>\n",
        "</table>\n",
        "</div>"
       ],
       "output_type": "pyout",
       "prompt_number": 8,
       "text": [
        "             open   high    low  close     volume\n",
        "2012-12-28  20.54  20.68  19.30  19.52   81740600\n",
        "2013-01-04  19.99  20.62  19.69  20.48   96876200\n",
        "2013-01-11  20.48  20.67  19.46  19.88  117269800\n",
        "2013-01-18  20.01  20.24  19.58  19.58  113357600\n",
        "2013-01-25  19.57  19.73  19.23  19.61   78432700\n",
        "2013-02-01  19.73  19.81  17.90  18.46  176295800"
       ]
      }
     ],
     "prompt_number": 8
    },
    {
     "cell_type": "code",
     "collapsed": false,
     "input": [
      "data_engine.get('WEEKLY:NORMALIZED:RAW_BOVESPA').process(symbol='PETR4', start=dt(2013, 1, 1), end=dt(2013, 2, 6))"
     ],
     "language": "python",
     "metadata": {},
     "outputs": [
      {
       "output_type": "stream",
       "stream": "stdout",
       "text": [
        "2012-12-26 00:00:00\n"
       ]
      },
      {
       "html": [
        "<div style=\"max-height:1000px;max-width:1500px;overflow:auto;\">\n",
        "<table border=\"1\" class=\"dataframe\">\n",
        "  <thead>\n",
        "    <tr style=\"text-align: right;\">\n",
        "      <th></th>\n",
        "      <th>open</th>\n",
        "      <th>high</th>\n",
        "      <th>low</th>\n",
        "      <th>close</th>\n",
        "      <th>volume</th>\n",
        "    </tr>\n",
        "  </thead>\n",
        "  <tbody>\n",
        "    <tr>\n",
        "      <th>2013-01-04</th>\n",
        "      <td> 19.99</td>\n",
        "      <td> 20.62</td>\n",
        "      <td> 19.69</td>\n",
        "      <td> 20.48</td>\n",
        "      <td>  96876200</td>\n",
        "    </tr>\n",
        "    <tr>\n",
        "      <th>2013-01-11</th>\n",
        "      <td> 20.48</td>\n",
        "      <td> 20.67</td>\n",
        "      <td> 19.46</td>\n",
        "      <td> 19.88</td>\n",
        "      <td> 117269800</td>\n",
        "    </tr>\n",
        "    <tr>\n",
        "      <th>2013-01-18</th>\n",
        "      <td> 20.01</td>\n",
        "      <td> 20.24</td>\n",
        "      <td> 19.58</td>\n",
        "      <td> 19.58</td>\n",
        "      <td> 113357600</td>\n",
        "    </tr>\n",
        "    <tr>\n",
        "      <th>2013-01-25</th>\n",
        "      <td> 19.57</td>\n",
        "      <td> 19.73</td>\n",
        "      <td> 19.23</td>\n",
        "      <td> 19.61</td>\n",
        "      <td>  78432700</td>\n",
        "    </tr>\n",
        "    <tr>\n",
        "      <th>2013-02-01</th>\n",
        "      <td> 19.73</td>\n",
        "      <td> 19.81</td>\n",
        "      <td> 17.90</td>\n",
        "      <td> 18.46</td>\n",
        "      <td> 176295800</td>\n",
        "    </tr>\n",
        "  </tbody>\n",
        "</table>\n",
        "</div>"
       ],
       "output_type": "pyout",
       "prompt_number": 7,
       "text": [
        "             open   high    low  close     volume\n",
        "2013-01-04  19.99  20.62  19.69  20.48   96876200\n",
        "2013-01-11  20.48  20.67  19.46  19.88  117269800\n",
        "2013-01-18  20.01  20.24  19.58  19.58  113357600\n",
        "2013-01-25  19.57  19.73  19.23  19.61   78432700\n",
        "2013-02-01  19.73  19.81  17.90  18.46  176295800"
       ]
      }
     ],
     "prompt_number": 7
    },
    {
     "cell_type": "code",
     "collapsed": false,
     "input": [
      "n.ix[0].name"
     ],
     "language": "python",
     "metadata": {},
     "outputs": [
      {
       "output_type": "pyout",
       "prompt_number": 8,
       "text": [
        "<Timestamp: 2012-12-26 00:00:00>"
       ]
      }
     ],
     "prompt_number": 8
    },
    {
     "cell_type": "code",
     "collapsed": false,
     "input": [],
     "language": "python",
     "metadata": {},
     "outputs": []
    }
   ],
   "metadata": {}
  }
 ]
}