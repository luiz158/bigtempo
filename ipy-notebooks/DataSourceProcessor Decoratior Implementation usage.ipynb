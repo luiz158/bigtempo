{
 "metadata": {
  "name": "DataSourceProcessor Decoratior Implementation usage"
 },
 "nbformat": 3,
 "nbformat_minor": 0,
 "worksheets": [
  {
   "cells": [
    {
     "cell_type": "code",
     "collapsed": false,
     "input": [
      "import talib\n",
      "import pandas\n",
      "from datetime import date as dt\n",
      "\n",
      "import providers.locator as locator\n",
      "import providers.byproduct as byproduct\n",
      "\n",
      "c_locator = locator.stock()"
     ],
     "language": "python",
     "metadata": {},
     "outputs": [],
     "prompt_number": 1
    },
    {
     "cell_type": "code",
     "collapsed": false,
     "input": [
      "from instances import data_engine"
     ],
     "language": "python",
     "metadata": {},
     "outputs": [],
     "prompt_number": 2
    },
    {
     "cell_type": "code",
     "collapsed": false,
     "input": [
      "from datasources import *"
     ],
     "language": "python",
     "metadata": {},
     "outputs": [
      {
       "ename": "TypeError",
       "evalue": "_evaluate_existing_selections() takes exactly 4 arguments (3 given)",
       "output_type": "pyerr",
       "traceback": [
        "\u001b[1;31m---------------------------------------------------------------------------\u001b[0m\n\u001b[1;31mTypeError\u001b[0m                                 Traceback (most recent call last)",
        "\u001b[1;32m<ipython-input-3-aeaaff707078>\u001b[0m in \u001b[0;36m<module>\u001b[1;34m()\u001b[0m\n\u001b[1;32m----> 1\u001b[1;33m \u001b[1;32mfrom\u001b[0m \u001b[0mdatasources\u001b[0m \u001b[1;32mimport\u001b[0m \u001b[1;33m*\u001b[0m\u001b[1;33m\u001b[0m\u001b[0m\n\u001b[0m",
        "\u001b[1;32m/home/rhlobo/dev/workspace-py/stockExperiments/stockExperiments/datasources/__init__.py\u001b[0m in \u001b[0;36m<module>\u001b[1;34m()\u001b[0m\n\u001b[0;32m      6\u001b[0m     \u001b[1;32mif\u001b[0m \u001b[0mmodule\u001b[0m \u001b[1;33m==\u001b[0m \u001b[1;34m'__init__.py'\u001b[0m \u001b[1;32mor\u001b[0m \u001b[0mextension\u001b[0m\u001b[1;33m.\u001b[0m\u001b[0mlower\u001b[0m\u001b[1;33m(\u001b[0m\u001b[1;33m)\u001b[0m \u001b[1;32mnot\u001b[0m \u001b[1;32min\u001b[0m \u001b[1;33m[\u001b[0m\u001b[1;34m'.py'\u001b[0m\u001b[1;33m]\u001b[0m\u001b[1;33m:\u001b[0m\u001b[1;33m\u001b[0m\u001b[0m\n\u001b[0;32m      7\u001b[0m         \u001b[1;32mcontinue\u001b[0m\u001b[1;33m\u001b[0m\u001b[0m\n\u001b[1;32m----> 8\u001b[1;33m     \u001b[0m__import__\u001b[0m\u001b[1;33m(\u001b[0m\u001b[0mbasename\u001b[0m\u001b[1;33m,\u001b[0m \u001b[0mlocals\u001b[0m\u001b[1;33m(\u001b[0m\u001b[1;33m)\u001b[0m\u001b[1;33m,\u001b[0m \u001b[0mglobals\u001b[0m\u001b[1;33m(\u001b[0m\u001b[1;33m)\u001b[0m\u001b[1;33m)\u001b[0m\u001b[1;33m\u001b[0m\u001b[0m\n\u001b[0m\u001b[0;32m      9\u001b[0m \u001b[1;32mdel\u001b[0m \u001b[0mmodule\u001b[0m\u001b[1;33m\u001b[0m\u001b[0m\n",
        "\u001b[1;32m/home/rhlobo/dev/workspace-py/stockExperiments/stockExperiments/datasources/raw_yahoo.py\u001b[0m in \u001b[0;36m<module>\u001b[1;34m()\u001b[0m\n\u001b[0;32m      6\u001b[0m \u001b[1;33m\u001b[0m\u001b[0m\n\u001b[0;32m      7\u001b[0m \u001b[1;33m@\u001b[0m\u001b[0mdata_engine\u001b[0m\u001b[1;33m.\u001b[0m\u001b[0mdatasource\u001b[0m\u001b[1;33m(\u001b[0m\u001b[1;34m'RAW_YAHOO_BR'\u001b[0m\u001b[1;33m,\u001b[0m \u001b[0mtags\u001b[0m\u001b[1;33m=\u001b[0m\u001b[1;33m[\u001b[0m\u001b[1;34m'RAW'\u001b[0m\u001b[1;33m]\u001b[0m\u001b[1;33m)\u001b[0m\u001b[1;33m\u001b[0m\u001b[0m\n\u001b[1;32m----> 8\u001b[1;33m \u001b[1;32mclass\u001b[0m \u001b[0mRawYahoo\u001b[0m\u001b[1;33m(\u001b[0m\u001b[0mobject\u001b[0m\u001b[1;33m)\u001b[0m\u001b[1;33m:\u001b[0m\u001b[1;33m\u001b[0m\u001b[0m\n\u001b[0m\u001b[0;32m      9\u001b[0m \u001b[1;33m\u001b[0m\u001b[0m\n\u001b[0;32m     10\u001b[0m     \u001b[0m_columns\u001b[0m \u001b[1;33m=\u001b[0m \u001b[1;33m[\u001b[0m\u001b[1;34m'open'\u001b[0m\u001b[1;33m,\u001b[0m \u001b[1;34m'high'\u001b[0m\u001b[1;33m,\u001b[0m \u001b[1;34m'low'\u001b[0m\u001b[1;33m,\u001b[0m \u001b[1;34m'close'\u001b[0m\u001b[1;33m,\u001b[0m \u001b[1;34m'volume'\u001b[0m\u001b[1;33m]\u001b[0m\u001b[1;33m\u001b[0m\u001b[0m\n",
        "\u001b[1;32m/home/rhlobo/dev/workspace-py/stockExperiments/stockExperiments/bigtempo/core.py\u001b[0m in \u001b[0;36mwrapper\u001b[1;34m(cls)\u001b[0m\n\u001b[0;32m     24\u001b[0m     \u001b[1;32mdef\u001b[0m \u001b[0mdatasource\u001b[0m\u001b[1;33m(\u001b[0m\u001b[0mself\u001b[0m\u001b[1;33m,\u001b[0m \u001b[0mreference\u001b[0m\u001b[1;33m,\u001b[0m \u001b[0mdependencies\u001b[0m\u001b[1;33m=\u001b[0m\u001b[0mNone\u001b[0m\u001b[1;33m,\u001b[0m \u001b[0mlookback\u001b[0m\u001b[1;33m=\u001b[0m\u001b[1;36m0\u001b[0m\u001b[1;33m,\u001b[0m \u001b[0mtags\u001b[0m\u001b[1;33m=\u001b[0m\u001b[0mNone\u001b[0m\u001b[1;33m)\u001b[0m\u001b[1;33m:\u001b[0m\u001b[1;33m\u001b[0m\u001b[0m\n\u001b[0;32m     25\u001b[0m         \u001b[1;32mdef\u001b[0m \u001b[0mwrapper\u001b[0m\u001b[1;33m(\u001b[0m\u001b[0mcls\u001b[0m\u001b[1;33m)\u001b[0m\u001b[1;33m:\u001b[0m\u001b[1;33m\u001b[0m\u001b[0m\n\u001b[1;32m---> 26\u001b[1;33m             \u001b[0mself\u001b[0m\u001b[1;33m.\u001b[0m\u001b[0m_register_datasource\u001b[0m\u001b[1;33m(\u001b[0m\u001b[0mreference\u001b[0m\u001b[1;33m,\u001b[0m \u001b[0mcls\u001b[0m\u001b[1;33m,\u001b[0m \u001b[0mdependencies\u001b[0m\u001b[1;33m=\u001b[0m\u001b[0mdependencies\u001b[0m\u001b[1;33m,\u001b[0m \u001b[0mlookback\u001b[0m\u001b[1;33m=\u001b[0m\u001b[0mlookback\u001b[0m\u001b[1;33m,\u001b[0m \u001b[0mdeclared_tags\u001b[0m\u001b[1;33m=\u001b[0m\u001b[0mtags\u001b[0m\u001b[1;33m)\u001b[0m\u001b[1;33m\u001b[0m\u001b[0m\n\u001b[0m\u001b[0;32m     27\u001b[0m             \u001b[1;32mreturn\u001b[0m \u001b[0mcls\u001b[0m\u001b[1;33m\u001b[0m\u001b[0m\n\u001b[0;32m     28\u001b[0m         \u001b[1;32mreturn\u001b[0m \u001b[0mwrapper\u001b[0m\u001b[1;33m\u001b[0m\u001b[0m\n",
        "\u001b[1;32m/home/rhlobo/dev/workspace-py/stockExperiments/stockExperiments/bigtempo/core.py\u001b[0m in \u001b[0;36m_register_datasource\u001b[1;34m(self, reference, cls, dependencies, lookback, declared_tags)\u001b[0m\n\u001b[0;32m     40\u001b[0m         }\n\u001b[0;32m     41\u001b[0m         \u001b[0mself\u001b[0m\u001b[1;33m.\u001b[0m\u001b[0m_tag_selector\u001b[0m\u001b[1;33m.\u001b[0m\u001b[0mregister\u001b[0m\u001b[1;33m(\u001b[0m\u001b[0mreference\u001b[0m\u001b[1;33m,\u001b[0m \u001b[0mtags\u001b[0m\u001b[1;33m)\u001b[0m\u001b[1;33m\u001b[0m\u001b[0m\n\u001b[1;32m---> 42\u001b[1;33m         \u001b[0mself\u001b[0m\u001b[1;33m.\u001b[0m\u001b[0m_tag_iteration_manager\u001b[0m\u001b[1;33m.\u001b[0m\u001b[0mevaluate_new_candidate\u001b[0m\u001b[1;33m(\u001b[0m\u001b[0mreference\u001b[0m\u001b[1;33m)\u001b[0m\u001b[1;33m\u001b[0m\u001b[0m\n\u001b[0m\u001b[0;32m     43\u001b[0m \u001b[1;33m\u001b[0m\u001b[0m\n\u001b[0;32m     44\u001b[0m     \u001b[1;32mdef\u001b[0m \u001b[0mselect\u001b[0m\u001b[1;33m(\u001b[0m\u001b[0mself\u001b[0m\u001b[1;33m,\u001b[0m \u001b[1;33m*\u001b[0m\u001b[0mselectors\u001b[0m\u001b[1;33m)\u001b[0m\u001b[1;33m:\u001b[0m\u001b[1;33m\u001b[0m\u001b[0m\n",
        "\u001b[1;32m/home/rhlobo/dev/workspace-py/stockExperiments/stockExperiments/bigtempo/core.py\u001b[0m in \u001b[0;36mevaluate_new_candidate\u001b[1;34m(self, new_reference)\u001b[0m\n\u001b[0;32m     84\u001b[0m     \u001b[1;32mdef\u001b[0m \u001b[0mevaluate_new_candidate\u001b[0m\u001b[1;33m(\u001b[0m\u001b[0mself\u001b[0m\u001b[1;33m,\u001b[0m \u001b[0mnew_reference\u001b[0m\u001b[1;33m)\u001b[0m\u001b[1;33m:\u001b[0m\u001b[1;33m\u001b[0m\u001b[0m\n\u001b[0;32m     85\u001b[0m         \u001b[1;32mfor\u001b[0m \u001b[0mfn\u001b[0m\u001b[1;33m,\u001b[0m \u001b[0mselections\u001b[0m \u001b[1;32min\u001b[0m \u001b[0mself\u001b[0m\u001b[1;33m.\u001b[0m\u001b[0mmappings\u001b[0m\u001b[1;33m:\u001b[0m\u001b[1;33m\u001b[0m\u001b[0m\n\u001b[1;32m---> 86\u001b[1;33m             \u001b[0mself\u001b[0m\u001b[1;33m.\u001b[0m\u001b[0m_evaluate_existing_selections\u001b[0m\u001b[1;33m(\u001b[0m\u001b[0mfn\u001b[0m\u001b[1;33m,\u001b[0m \u001b[0mselections\u001b[0m\u001b[1;33m)\u001b[0m\u001b[1;33m\u001b[0m\u001b[0m\n\u001b[0m\u001b[0;32m     87\u001b[0m \u001b[1;33m\u001b[0m\u001b[0m\n\u001b[0;32m     88\u001b[0m     \u001b[1;32mdef\u001b[0m \u001b[0m_evaluate_existing_selections\u001b[0m\u001b[1;33m(\u001b[0m\u001b[0mself\u001b[0m\u001b[1;33m,\u001b[0m \u001b[0mfn\u001b[0m\u001b[1;33m,\u001b[0m \u001b[0mselections\u001b[0m\u001b[1;33m,\u001b[0m \u001b[0mnew_reference\u001b[0m\u001b[1;33m)\u001b[0m\u001b[1;33m:\u001b[0m\u001b[1;33m\u001b[0m\u001b[0m\n",
        "\u001b[1;31mTypeError\u001b[0m: _evaluate_existing_selections() takes exactly 4 arguments (3 given)"
       ]
      }
     ],
     "prompt_number": 3
    },
    {
     "cell_type": "code",
     "collapsed": false,
     "input": [
      "data_engine.select('RAW')"
     ],
     "language": "python",
     "metadata": {},
     "outputs": [
      {
       "output_type": "pyout",
       "prompt_number": 4,
       "text": [
        "[\n",
        "    \"RAW_BOVESPA\", \n",
        "    \"RAW_YAHOO_BR\"\n",
        "]"
       ]
      }
     ],
     "prompt_number": 4
    },
    {
     "cell_type": "code",
     "collapsed": false,
     "input": [
      "data_engine.select()"
     ],
     "language": "python",
     "metadata": {},
     "outputs": [
      {
       "output_type": "pyout",
       "prompt_number": 5,
       "text": [
        "[]"
       ]
      }
     ],
     "prompt_number": 5
    },
    {
     "cell_type": "code",
     "collapsed": false,
     "input": [
      "sorted(data_engine.select().all())"
     ],
     "language": "python",
     "metadata": {},
     "outputs": [
      {
       "output_type": "pyout",
       "prompt_number": 6,
       "text": [
        "['NORMALIZATION:(RAW_BOVESPA, RAW_BOVESPA)',\n",
        " 'NORMALIZATION:(RAW_YAHOO_BR, RAW_YAHOO_BR)',\n",
        " 'NORMALIZATION_FACTOR:SPLITS:PCT_CHANGE(1):RAW_BOVESPA',\n",
        " 'NORMALIZATION_FACTOR:SPLITS:PCT_CHANGE(1):RAW_YAHOO_BR',\n",
        " 'PCT_CHANGE(1):RAW_BOVESPA',\n",
        " 'PCT_CHANGE(1):RAW_YAHOO_BR',\n",
        " 'RAW_BOVESPA',\n",
        " 'RAW_YAHOO_BR',\n",
        " 'SPLITS:PCT_CHANGE(1):RAW_BOVESPA',\n",
        " 'SPLITS:PCT_CHANGE(1):RAW_YAHOO_BR']"
       ]
      }
     ],
     "prompt_number": 6
    },
    {
     "cell_type": "markdown",
     "metadata": {},
     "source": [
      "-----------------------------------------------------"
     ]
    },
    {
     "cell_type": "code",
     "collapsed": false,
     "input": [
      "import bigtempo.core as core\n",
      "engine = core.DatasourceEngine()"
     ],
     "language": "python",
     "metadata": {},
     "outputs": [],
     "prompt_number": 2
    },
    {
     "cell_type": "code",
     "collapsed": false,
     "input": [
      "@engine.datasource('Normalized')\n",
      "class Normalized(object):\n",
      "    \n",
      "    def process(self, context, symbol, start=None, end=None):\n",
      "        return c_locator.get(byproduct.NormalizedCotationProvider).load(symbol, start, end)"
     ],
     "language": "python",
     "metadata": {},
     "outputs": [],
     "prompt_number": 10
    },
    {
     "cell_type": "code",
     "collapsed": false,
     "input": [
      "engine.get('Normalized').process(symbol='PETR4')"
     ],
     "language": "python",
     "metadata": {},
     "outputs": [
      {
       "output_type": "pyout",
       "prompt_number": 11,
       "text": [
        "<class 'pandas.core.frame.DataFrame'>\n",
        "DatetimeIndex: 3278 entries, 2000-01-03 00:00:00 to 2013-03-28 00:00:00\n",
        "Data columns:\n",
        "open      3278  non-null values\n",
        "high      3278  non-null values\n",
        "low       3278  non-null values\n",
        "close     3278  non-null values\n",
        "volume    3278  non-null values\n",
        "dtypes: float64(5)"
       ]
      }
     ],
     "prompt_number": 11
    },
    {
     "cell_type": "code",
     "collapsed": false,
     "input": [
      "engine.get('Normalized').process(symbol='PETR4', start=dt(2013, 2, 1), end=dt(2013, 3, 1))"
     ],
     "language": "python",
     "metadata": {},
     "outputs": [
      {
       "html": [
        "<div style=\"max-height:1000px;max-width:1500px;overflow:auto;\">\n",
        "<table border=\"1\" class=\"dataframe\">\n",
        "  <thead>\n",
        "    <tr style=\"text-align: right;\">\n",
        "      <th></th>\n",
        "      <th>open</th>\n",
        "      <th>high</th>\n",
        "      <th>low</th>\n",
        "      <th>close</th>\n",
        "      <th>volume</th>\n",
        "    </tr>\n",
        "  </thead>\n",
        "  <tbody>\n",
        "    <tr>\n",
        "      <th>2013-02-01</th>\n",
        "      <td> 18.14</td>\n",
        "      <td> 18.65</td>\n",
        "      <td> 18.12</td>\n",
        "      <td> 18.46</td>\n",
        "      <td> 28860200</td>\n",
        "    </tr>\n",
        "    <tr>\n",
        "      <th>2013-02-04</th>\n",
        "      <td> 18.16</td>\n",
        "      <td> 18.35</td>\n",
        "      <td> 17.89</td>\n",
        "      <td> 18.00</td>\n",
        "      <td> 32294300</td>\n",
        "    </tr>\n",
        "    <tr>\n",
        "      <th>2013-02-05</th>\n",
        "      <td> 17.28</td>\n",
        "      <td> 18.29</td>\n",
        "      <td> 17.26</td>\n",
        "      <td> 18.08</td>\n",
        "      <td> 77332500</td>\n",
        "    </tr>\n",
        "    <tr>\n",
        "      <th>2013-02-06</th>\n",
        "      <td> 17.93</td>\n",
        "      <td> 18.00</td>\n",
        "      <td> 17.53</td>\n",
        "      <td> 17.60</td>\n",
        "      <td> 30886100</td>\n",
        "    </tr>\n",
        "    <tr>\n",
        "      <th>2013-02-07</th>\n",
        "      <td> 17.75</td>\n",
        "      <td> 17.98</td>\n",
        "      <td> 17.32</td>\n",
        "      <td> 17.50</td>\n",
        "      <td> 37065900</td>\n",
        "    </tr>\n",
        "    <tr>\n",
        "      <th>2013-02-08</th>\n",
        "      <td> 17.55</td>\n",
        "      <td> 17.74</td>\n",
        "      <td> 17.38</td>\n",
        "      <td> 17.74</td>\n",
        "      <td> 31068000</td>\n",
        "    </tr>\n",
        "    <tr>\n",
        "      <th>2013-02-13</th>\n",
        "      <td> 17.95</td>\n",
        "      <td> 18.00</td>\n",
        "      <td> 17.73</td>\n",
        "      <td> 17.80</td>\n",
        "      <td> 22328200</td>\n",
        "    </tr>\n",
        "    <tr>\n",
        "      <th>2013-02-14</th>\n",
        "      <td> 17.79</td>\n",
        "      <td> 17.90</td>\n",
        "      <td> 17.58</td>\n",
        "      <td> 17.67</td>\n",
        "      <td> 25902900</td>\n",
        "    </tr>\n",
        "    <tr>\n",
        "      <th>2013-02-15</th>\n",
        "      <td> 17.61</td>\n",
        "      <td> 17.79</td>\n",
        "      <td> 17.53</td>\n",
        "      <td> 17.63</td>\n",
        "      <td> 25001600</td>\n",
        "    </tr>\n",
        "    <tr>\n",
        "      <th>2013-02-18</th>\n",
        "      <td> 17.64</td>\n",
        "      <td> 17.90</td>\n",
        "      <td> 17.52</td>\n",
        "      <td> 17.90</td>\n",
        "      <td> 20291600</td>\n",
        "    </tr>\n",
        "    <tr>\n",
        "      <th>2013-02-19</th>\n",
        "      <td> 17.91</td>\n",
        "      <td> 18.18</td>\n",
        "      <td> 17.89</td>\n",
        "      <td> 18.10</td>\n",
        "      <td> 28822000</td>\n",
        "    </tr>\n",
        "    <tr>\n",
        "      <th>2013-02-20</th>\n",
        "      <td> 18.10</td>\n",
        "      <td> 18.10</td>\n",
        "      <td> 17.59</td>\n",
        "      <td> 17.62</td>\n",
        "      <td> 25939500</td>\n",
        "    </tr>\n",
        "    <tr>\n",
        "      <th>2013-02-21</th>\n",
        "      <td> 17.47</td>\n",
        "      <td> 17.57</td>\n",
        "      <td> 17.20</td>\n",
        "      <td> 17.32</td>\n",
        "      <td> 30380300</td>\n",
        "    </tr>\n",
        "    <tr>\n",
        "      <th>2013-02-22</th>\n",
        "      <td> 17.51</td>\n",
        "      <td> 17.51</td>\n",
        "      <td> 17.01</td>\n",
        "      <td> 17.15</td>\n",
        "      <td> 30901800</td>\n",
        "    </tr>\n",
        "    <tr>\n",
        "      <th>2013-02-25</th>\n",
        "      <td> 17.05</td>\n",
        "      <td> 17.10</td>\n",
        "      <td> 16.85</td>\n",
        "      <td> 16.95</td>\n",
        "      <td> 30504000</td>\n",
        "    </tr>\n",
        "    <tr>\n",
        "      <th>2013-02-26</th>\n",
        "      <td> 16.78</td>\n",
        "      <td> 16.86</td>\n",
        "      <td> 16.53</td>\n",
        "      <td> 16.74</td>\n",
        "      <td> 33403100</td>\n",
        "    </tr>\n",
        "    <tr>\n",
        "      <th>2013-02-27</th>\n",
        "      <td> 16.79</td>\n",
        "      <td> 16.98</td>\n",
        "      <td> 16.64</td>\n",
        "      <td> 16.81</td>\n",
        "      <td> 28607500</td>\n",
        "    </tr>\n",
        "    <tr>\n",
        "      <th>2013-02-28</th>\n",
        "      <td> 16.76</td>\n",
        "      <td> 16.85</td>\n",
        "      <td> 16.55</td>\n",
        "      <td> 16.61</td>\n",
        "      <td> 27829200</td>\n",
        "    </tr>\n",
        "    <tr>\n",
        "      <th>2013-03-01</th>\n",
        "      <td> 16.50</td>\n",
        "      <td> 17.02</td>\n",
        "      <td> 16.40</td>\n",
        "      <td> 16.90</td>\n",
        "      <td> 31519900</td>\n",
        "    </tr>\n",
        "  </tbody>\n",
        "</table>\n",
        "</div>"
       ],
       "output_type": "pyout",
       "prompt_number": 13,
       "text": [
        "             open   high    low  close    volume\n",
        "2013-02-01  18.14  18.65  18.12  18.46  28860200\n",
        "2013-02-04  18.16  18.35  17.89  18.00  32294300\n",
        "2013-02-05  17.28  18.29  17.26  18.08  77332500\n",
        "2013-02-06  17.93  18.00  17.53  17.60  30886100\n",
        "2013-02-07  17.75  17.98  17.32  17.50  37065900\n",
        "2013-02-08  17.55  17.74  17.38  17.74  31068000\n",
        "2013-02-13  17.95  18.00  17.73  17.80  22328200\n",
        "2013-02-14  17.79  17.90  17.58  17.67  25902900\n",
        "2013-02-15  17.61  17.79  17.53  17.63  25001600\n",
        "2013-02-18  17.64  17.90  17.52  17.90  20291600\n",
        "2013-02-19  17.91  18.18  17.89  18.10  28822000\n",
        "2013-02-20  18.10  18.10  17.59  17.62  25939500\n",
        "2013-02-21  17.47  17.57  17.20  17.32  30380300\n",
        "2013-02-22  17.51  17.51  17.01  17.15  30901800\n",
        "2013-02-25  17.05  17.10  16.85  16.95  30504000\n",
        "2013-02-26  16.78  16.86  16.53  16.74  33403100\n",
        "2013-02-27  16.79  16.98  16.64  16.81  28607500\n",
        "2013-02-28  16.76  16.85  16.55  16.61  27829200\n",
        "2013-03-01  16.50  17.02  16.40  16.90  31519900"
       ]
      }
     ],
     "prompt_number": 13
    },
    {
     "cell_type": "code",
     "collapsed": false,
     "input": [],
     "language": "python",
     "metadata": {},
     "outputs": []
    }
   ],
   "metadata": {}
  }
 ]
}