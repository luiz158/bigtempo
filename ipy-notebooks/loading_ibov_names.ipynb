{
 "metadata": {
  "name": "loading_ibov_names"
 },
 "nbformat": 3,
 "nbformat_minor": 0,
 "worksheets": [
  {
   "cells": [
    {
     "cell_type": "code",
     "collapsed": false,
     "input": [
      "import urllib"
     ],
     "language": "python",
     "metadata": {},
     "outputs": [],
     "prompt_number": 1
    },
    {
     "cell_type": "code",
     "collapsed": false,
     "input": [
      "url = 'http://www.bmfbovespa.com.br/indices/ResumoCarteiraTeorica.aspx?Indice=Ibovespa&idioma=pt-br'"
     ],
     "language": "python",
     "metadata": {},
     "outputs": [],
     "prompt_number": 2
    },
    {
     "cell_type": "code",
     "collapsed": false,
     "input": [
      "result = urllib.urlopen(url)"
     ],
     "language": "python",
     "metadata": {},
     "outputs": [],
     "prompt_number": "*"
    },
    {
     "cell_type": "code",
     "collapsed": false,
     "input": [
      "html = result.read()"
     ],
     "language": "python",
     "metadata": {},
     "outputs": [],
     "prompt_number": "*"
    },
    {
     "cell_type": "code",
     "collapsed": false,
     "input": [
      "html"
     ],
     "language": "python",
     "metadata": {},
     "outputs": [],
     "prompt_number": "*"
    },
    {
     "cell_type": "code",
     "collapsed": false,
     "input": [
      "import re"
     ],
     "language": "python",
     "metadata": {},
     "outputs": [],
     "prompt_number": "*"
    },
    {
     "cell_type": "code",
     "collapsed": false,
     "input": [
      "regex = re.compile(r'<span\\s+id=\"ctl00_contentPlaceHolderConteudo_grdResumoCarteiraTeorica_ctl00_ctl\\d+_lblCodigo\".*?>([\\w\\d]+)</span>', re.IGNORECASE|re.DOTALL|re.MULTILINE)\n",
      "CODIGOS = re.findall(regex, html)"
     ],
     "language": "python",
     "metadata": {},
     "outputs": [],
     "prompt_number": "*"
    },
    {
     "cell_type": "code",
     "collapsed": false,
     "input": [
      "CODIGOS"
     ],
     "language": "python",
     "metadata": {},
     "outputs": [],
     "prompt_number": "*"
    },
    {
     "cell_type": "code",
     "collapsed": false,
     "input": [
      "len(CODIGOS)"
     ],
     "language": "python",
     "metadata": {},
     "outputs": [],
     "prompt_number": "*"
    },
    {
     "cell_type": "code",
     "collapsed": false,
     "input": [
      "import sources.bmfbovespa as bmf"
     ],
     "language": "python",
     "metadata": {},
     "outputs": [],
     "prompt_number": 1
    },
    {
     "cell_type": "code",
     "collapsed": false,
     "input": [
      "importer = bmf.SymbolImporter()\n",
      "CODES = importer.import_symbols('Ibovespa')"
     ],
     "language": "python",
     "metadata": {},
     "outputs": [],
     "prompt_number": 2
    },
    {
     "cell_type": "code",
     "collapsed": false,
     "input": [
      "len(CODES)"
     ],
     "language": "python",
     "metadata": {},
     "outputs": [
      {
       "output_type": "pyout",
       "prompt_number": 4,
       "text": [
        "69"
       ]
      }
     ],
     "prompt_number": 4
    },
    {
     "cell_type": "code",
     "collapsed": false,
     "input": [
      "CODES"
     ],
     "language": "python",
     "metadata": {},
     "outputs": [
      {
       "output_type": "pyout",
       "prompt_number": 3,
       "text": [
        "['ALLL3',\n",
        " 'AMBV4',\n",
        " 'BBAS3',\n",
        " 'BBDC4',\n",
        " 'BISA3',\n",
        " 'BRAP4',\n",
        " 'BRFS3',\n",
        " 'BRKM5',\n",
        " 'BRML3',\n",
        " 'BTOW3',\n",
        " 'BVMF3',\n",
        " 'CCRO3',\n",
        " 'CESP6',\n",
        " 'CIEL3',\n",
        " 'CMIG4',\n",
        " 'CPFE3',\n",
        " 'CPLE6',\n",
        " 'CRUZ3',\n",
        " 'CSAN3',\n",
        " 'CSNA3',\n",
        " 'CTIP3',\n",
        " 'CYRE3',\n",
        " 'DASA3',\n",
        " 'DTEX3',\n",
        " 'ELET3',\n",
        " 'ELET6',\n",
        " 'ELPL4',\n",
        " 'EMBR3',\n",
        " 'ENBR3',\n",
        " 'FIBR3',\n",
        " 'GFSA3',\n",
        " 'GGBR4',\n",
        " 'GOAU4',\n",
        " 'GOLL4',\n",
        " 'HGTX3',\n",
        " 'HYPE3',\n",
        " 'ITSA4',\n",
        " 'ITUB4',\n",
        " 'JBSS3',\n",
        " 'KLBN4',\n",
        " 'LAME4',\n",
        " 'LIGT3',\n",
        " 'LLXL3',\n",
        " 'LREN3',\n",
        " 'MMXM3',\n",
        " 'MRFG3',\n",
        " 'MRVE3',\n",
        " 'NATU3',\n",
        " 'OGXP3',\n",
        " 'OIBR3',\n",
        " 'OIBR4',\n",
        " 'PCAR4',\n",
        " 'PDGR3',\n",
        " 'PETR3',\n",
        " 'PETR4',\n",
        " 'RENT3',\n",
        " 'RSID3',\n",
        " 'SANB11',\n",
        " 'SBSP3',\n",
        " 'SUZB5',\n",
        " 'TIMP3',\n",
        " 'TRPL4',\n",
        " 'UGPA3',\n",
        " 'USIM3',\n",
        " 'USIM5',\n",
        " 'VAGR3',\n",
        " 'VALE3',\n",
        " 'VALE5',\n",
        " 'VIVT4']"
       ]
      }
     ],
     "prompt_number": 3
    },
    {
     "cell_type": "code",
     "collapsed": false,
     "input": [],
     "language": "python",
     "metadata": {},
     "outputs": []
    }
   ],
   "metadata": {}
  }
 ]
}