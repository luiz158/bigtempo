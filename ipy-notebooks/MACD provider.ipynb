{
 "metadata": {
  "name": "MACD provider"
 },
 "nbformat": 3,
 "nbformat_minor": 0,
 "worksheets": [
  {
   "cells": [
    {
     "cell_type": "code",
     "collapsed": false,
     "input": [
      "import talib\n",
      "from datetime import datetime as dt, date as d"
     ],
     "language": "python",
     "metadata": {},
     "outputs": [],
     "prompt_number": 9
    },
    {
     "cell_type": "code",
     "collapsed": false,
     "input": [
      "import pandas\n",
      "import util.dateutils as dateutils\n",
      "import providers.locator as locator\n",
      "import providers.base as base\n",
      "import providers.raw as raw\n",
      "import providers.byproduct as byproduct"
     ],
     "language": "python",
     "metadata": {},
     "outputs": [],
     "prompt_number": 10
    },
    {
     "cell_type": "code",
     "collapsed": false,
     "input": [
      "s_symbol = 'PETR4'"
     ],
     "language": "python",
     "metadata": {},
     "outputs": [],
     "prompt_number": 11
    },
    {
     "cell_type": "code",
     "collapsed": false,
     "input": [
      "c_locator = locator.stock()"
     ],
     "language": "python",
     "metadata": {},
     "outputs": [],
     "prompt_number": 12
    },
    {
     "cell_type": "code",
     "collapsed": false,
     "input": [
      "class MACDProvider(base.ByproductProvider):\n",
      "\n",
      "    def load(self, s_symbol, da_start=None, da_end=None):\n",
      "        da_newStart = None if not da_start else dateutils.relative_working_day(-37, da_start)\n",
      "        df_norm = self.locator.get(byproduct.NormalizedCotationProvider).load(s_symbol, da_newStart, da_end)\n",
      "        \n",
      "        m1, m2, m3 = talib.MACD(df_norm['close'])\n",
      "        sm1 = pandas.TimeSeries(m1, index=df_norm.index, name=\"m1\")\n",
      "        sm2 = pandas.TimeSeries(m2, index=df_norm.index, name=\"m2\")\n",
      "        sm3 = pandas.TimeSeries(m3, index=df_norm.index, name=\"m3\")\n",
      "\n",
      "        return pandas.DataFrame({\"macd\":sm1, \"signal\":sm2, \"histo\":sm3}, df_norm.index)\n",
      "\n",
      "\n",
      "macd_prov = MACDProvider(c_locator)"
     ],
     "language": "python",
     "metadata": {},
     "outputs": [],
     "prompt_number": 61
    },
    {
     "cell_type": "code",
     "collapsed": false,
     "input": [
      "macd_jan = macd_prov.load('PETR4', d(2013, 1, 1), d(2013, 3, 1))"
     ],
     "language": "python",
     "metadata": {},
     "outputs": [
      {
       "output_type": "stream",
       "stream": "stdout",
       "text": [
        "start and end\n",
        "start\n"
       ]
      }
     ],
     "prompt_number": 62
    },
    {
     "cell_type": "code",
     "collapsed": false,
     "input": [
      "macd_jan['histo']"
     ],
     "language": "python",
     "metadata": {},
     "outputs": [
      {
       "output_type": "pyout",
       "prompt_number": 63,
       "text": [
        "2012-11-09         NaN\n",
        "2012-11-12         NaN\n",
        "2012-11-13         NaN\n",
        "2012-11-14         NaN\n",
        "2012-11-16         NaN\n",
        "2012-11-19         NaN\n",
        "2012-11-21         NaN\n",
        "2012-11-22         NaN\n",
        "2012-11-23         NaN\n",
        "2012-11-26         NaN\n",
        "2012-11-27         NaN\n",
        "2012-11-28         NaN\n",
        "2012-11-29         NaN\n",
        "2012-11-30         NaN\n",
        "2012-12-03         NaN\n",
        "2012-12-04         NaN\n",
        "2012-12-05         NaN\n",
        "2012-12-06         NaN\n",
        "2012-12-07         NaN\n",
        "2012-12-10         NaN\n",
        "2012-12-11         NaN\n",
        "2012-12-12         NaN\n",
        "2012-12-13         NaN\n",
        "2012-12-14         NaN\n",
        "2012-12-17         NaN\n",
        "2012-12-18         NaN\n",
        "2012-12-19         NaN\n",
        "2012-12-20         NaN\n",
        "2012-12-21         NaN\n",
        "2012-12-26         NaN\n",
        "2012-12-27         NaN\n",
        "2012-12-28         NaN\n",
        "2013-01-02         NaN\n",
        "2013-01-03   -0.036379\n",
        "2013-01-04   -0.006058\n",
        "2013-01-07   -0.014411\n",
        "2013-01-08   -0.058020\n",
        "2013-01-09   -0.072808\n",
        "2013-01-10   -0.070504\n",
        "2013-01-11   -0.063830\n",
        "2013-01-14   -0.059726\n",
        "2013-01-15   -0.057311\n",
        "2013-01-16   -0.052762\n",
        "2013-01-17   -0.056564\n",
        "2013-01-18   -0.065273\n",
        "2013-01-21   -0.080282\n",
        "2013-01-22   -0.074018\n",
        "2013-01-23   -0.068621\n",
        "2013-01-24   -0.058150\n",
        "2013-01-28   -0.064060\n",
        "2013-01-29   -0.081058\n",
        "2013-01-30   -0.145412\n",
        "2013-01-31   -0.185327\n",
        "2013-02-01   -0.175499\n",
        "2013-02-04   -0.188217\n",
        "2013-02-05   -0.179508\n",
        "2013-02-06   -0.193154\n",
        "2013-02-07   -0.195406\n",
        "2013-02-08   -0.168255\n",
        "2013-02-13   -0.135202\n",
        "2013-02-14   -0.111999\n",
        "2013-02-15   -0.090188\n",
        "2013-02-18   -0.050403\n",
        "2013-02-19   -0.005791\n",
        "2013-02-20   -0.003874\n",
        "2013-02-21   -0.017323\n",
        "2013-02-22   -0.031362\n",
        "2013-02-25   -0.046877\n",
        "2013-02-26   -0.063036\n",
        "2013-02-27   -0.060739\n",
        "2013-02-28   -0.064087\n",
        "2013-03-01   -0.039380\n",
        "Name: histo, Length: 72"
       ]
      }
     ],
     "prompt_number": 63
    },
    {
     "cell_type": "code",
     "collapsed": false,
     "input": [],
     "language": "python",
     "metadata": {},
     "outputs": [],
     "prompt_number": 15
    },
    {
     "cell_type": "code",
     "collapsed": false,
     "input": [],
     "language": "python",
     "metadata": {},
     "outputs": []
    }
   ],
   "metadata": {}
  }
 ]
}