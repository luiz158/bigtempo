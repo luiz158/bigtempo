{
 "metadata": {
  "name": "MACD provider"
 },
 "nbformat": 3,
 "nbformat_minor": 0,
 "worksheets": [
  {
   "cells": [
    {
     "cell_type": "code",
     "collapsed": false,
     "input": [
      "import talib\n",
      "from datetime import datetime as dt"
     ],
     "language": "python",
     "metadata": {},
     "outputs": [],
     "prompt_number": 12
    },
    {
     "cell_type": "code",
     "collapsed": false,
     "input": [
      "import pandas\n",
      "import providers.locator as locator\n",
      "import providers.base as base\n",
      "import providers.raw as raw\n",
      "import providers.byproduct as byproduct"
     ],
     "language": "python",
     "metadata": {},
     "outputs": [],
     "prompt_number": 6
    },
    {
     "cell_type": "code",
     "collapsed": false,
     "input": [
      "s_symbol = 'PETR4'"
     ],
     "language": "python",
     "metadata": {},
     "outputs": [],
     "prompt_number": 7
    },
    {
     "cell_type": "code",
     "collapsed": false,
     "input": [
      "c_locator = locator.stock()"
     ],
     "language": "python",
     "metadata": {},
     "outputs": [],
     "prompt_number": 8
    },
    {
     "cell_type": "code",
     "collapsed": false,
     "input": [
      "class MACDProvider(base.ByproductProvider):\n",
      "\n",
      "    def load(self, s_symbol, da_start=None, da_end=None):\n",
      "        #da_newStart = dateutils.relative_working_day(-1, da_start) if da_start else None\n",
      "        df_norm = self.locator.get(byproduct.NormalizedCotationProvider).load(s_symbol, da_start, da_end)\n",
      "        \n",
      "        m1, m2, m3 = talib.MACD(df_norm['close'])\n",
      "        sm1 = pandas.TimeSeries(m1, index=df_norm.index, name=\"m1\")\n",
      "        sm2 = pandas.TimeSeries(m2, index=df_norm.index, name=\"m2\")\n",
      "        sm3 = pandas.TimeSeries(m3, index=df_norm.index, name=\"m3\")\n",
      "\n",
      "        return pandas.DataFrame({\"macd\":sm1, \"signal\":sm2, \"histo\":sm3}, df_norm.index)\n",
      "\n",
      "macd_prov = MACDProvider(c_locator)"
     ],
     "language": "python",
     "metadata": {},
     "outputs": [],
     "prompt_number": 18
    },
    {
     "cell_type": "code",
     "collapsed": false,
     "input": [
      "macd_jan = macd_prov.load('PETR4', dt(2013, 1, 1), dt(2013, 2, 1))"
     ],
     "language": "python",
     "metadata": {},
     "outputs": [],
     "prompt_number": 19
    },
    {
     "cell_type": "code",
     "collapsed": false,
     "input": [
      "macd_jan[dt(2013, 2, 1) : dt(2013, 3, 1)]['histo'].plot()"
     ],
     "language": "python",
     "metadata": {},
     "outputs": [
      {
       "output_type": "pyout",
       "prompt_number": 27,
       "text": [
        "<matplotlib.axes.AxesSubplot at 0xaf65cac>"
       ]
      },
      {
       "output_type": "display_data",
       "png": "[encoded data removed]"
      }
     ],
     "prompt_number": 27
    },
    {
     "cell_type": "code",
     "collapsed": false,
     "input": [],
     "language": "python",
     "metadata": {},
     "outputs": []
    }
   ],
   "metadata": {}
  }
 ]
}