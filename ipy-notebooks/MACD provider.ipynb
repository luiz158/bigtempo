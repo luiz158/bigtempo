{
 "metadata": {
  "name": "MACD provider"
 },
 "nbformat": 3,
 "nbformat_minor": 0,
 "worksheets": [
  {
   "cells": [
    {
     "cell_type": "code",
     "collapsed": false,
     "input": [
      "import talib\n",
      "from datetime import datetime as dt, date as d"
     ],
     "language": "python",
     "metadata": {},
     "outputs": [],
     "prompt_number": 1
    },
    {
     "cell_type": "code",
     "collapsed": false,
     "input": [
      "import pandas\n",
      "import util.dateutils as dateutils\n",
      "import providers.locator as locator\n",
      "import providers.base as base\n",
      "import providers.raw as raw\n",
      "import providers.byproduct as byproduct"
     ],
     "language": "python",
     "metadata": {},
     "outputs": [],
     "prompt_number": 2
    },
    {
     "cell_type": "code",
     "collapsed": false,
     "input": [
      "s_symbol = 'PETR4'"
     ],
     "language": "python",
     "metadata": {},
     "outputs": [],
     "prompt_number": 3
    },
    {
     "cell_type": "code",
     "collapsed": false,
     "input": [
      "c_locator = locator.stock()"
     ],
     "language": "python",
     "metadata": {},
     "outputs": [],
     "prompt_number": 4
    },
    {
     "cell_type": "code",
     "collapsed": false,
     "input": [
      "class MACDProvider(base.ByproductProvider):\n",
      "    fast_period = 12\n",
      "    slow_period = 26\n",
      "    signal_period = 9\n",
      "    lookback_period = 40\n",
      "    column = 'close'\n",
      "\n",
      "    def load(self, s_symbol, da_start=None, da_end=None):\n",
      "        da_newStart = None if not da_start else dateutils.relative_working_day(-self.lookback_period, da_start)\n",
      "        df_norm = self.locator.get(byproduct.NormalizedCotationProvider).load(s_symbol, da_newStart, da_end)\n",
      "        \n",
      "        macd, macdsignal, macdhist = talib.MACD(df_norm[self.column], fastperiod=self.fast_period, slowperiod=self.slow_period, signalperiod=self.signal_period)\n",
      "        return pandas.DataFrame({\"macd\":macd, \"macdsignal\":macdsignal, \"macdhist\":macdhist}, df_norm.index)\n",
      "\n",
      "\n",
      "macd_a = MACDProvider(c_locator)"
     ],
     "language": "python",
     "metadata": {},
     "outputs": [],
     "prompt_number": 13
    },
    {
     "cell_type": "code",
     "collapsed": false,
     "input": [
      "a = macd_a.load('PETR4', d(2013, 1, 1), d(2013, 3, 1))"
     ],
     "language": "python",
     "metadata": {},
     "outputs": [],
     "prompt_number": 19
    },
    {
     "cell_type": "code",
     "collapsed": false,
     "input": [
      "macd_b = byproduct.MACDProvider(c_locator)"
     ],
     "language": "python",
     "metadata": {},
     "outputs": [],
     "prompt_number": 15
    },
    {
     "cell_type": "code",
     "collapsed": false,
     "input": [
      "b = macd_b.load('PETR4', d(2013, 1, 1), d(2013, 3, 1))"
     ],
     "language": "python",
     "metadata": {},
     "outputs": [],
     "prompt_number": 20
    },
    {
     "cell_type": "code",
     "collapsed": false,
     "input": [
      "((a == b)  | (numpy.isnan(a) & numpy.isnan(b))).all()"
     ],
     "language": "python",
     "metadata": {},
     "outputs": [
      {
       "output_type": "pyout",
       "prompt_number": 24,
       "text": [
        "macd          True\n",
        "macdhist      True\n",
        "macdsignal    True"
       ]
      }
     ],
     "prompt_number": 24
    },
    {
     "cell_type": "code",
     "collapsed": false,
     "input": [],
     "language": "python",
     "metadata": {},
     "outputs": []
    }
   ],
   "metadata": {}
  }
 ]
}