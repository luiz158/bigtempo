{
 "metadata": {
  "name": "MACD provider"
 },
 "nbformat": 3,
 "nbformat_minor": 0,
 "worksheets": [
  {
   "cells": [
    {
     "cell_type": "code",
     "collapsed": false,
     "input": [
      "import talib\n",
      "from datetime import datetime as dt, date as d"
     ],
     "language": "python",
     "metadata": {},
     "outputs": [],
     "prompt_number": 1
    },
    {
     "cell_type": "code",
     "collapsed": false,
     "input": [
      "import pandas\n",
      "import util.dateutils as dateutils\n",
      "import providers.locator as locator\n",
      "import providers.base as base\n",
      "import providers.raw as raw\n",
      "import providers.byproduct as byproduct"
     ],
     "language": "python",
     "metadata": {},
     "outputs": [],
     "prompt_number": 2
    },
    {
     "cell_type": "code",
     "collapsed": false,
     "input": [
      "s_symbol = 'PETR4'"
     ],
     "language": "python",
     "metadata": {},
     "outputs": [],
     "prompt_number": 3
    },
    {
     "cell_type": "code",
     "collapsed": false,
     "input": [
      "c_locator = locator.stock()"
     ],
     "language": "python",
     "metadata": {},
     "outputs": [],
     "prompt_number": 4
    },
    {
     "cell_type": "code",
     "collapsed": false,
     "input": [
      "class MACDProvider(base.ByproductProvider):\n",
      "    fast_period = 12\n",
      "    slow_period = 26\n",
      "    signal_period = 9\n",
      "    lookback_period = 40\n",
      "    column = 'close'\n",
      "\n",
      "    def load(self, s_symbol, da_start=None, da_end=None):\n",
      "        da_newStart = None if not da_start else dateutils.relative_working_day(-self.lookback_period, da_start)\n",
      "        df_norm = self.locator.get(byproduct.NormalizedCotationProvider).load(s_symbol, da_newStart, da_end)\n",
      "        \n",
      "        macd, macdsignal, macdhist = talib.MACD(df_norm[self.column], fastperiod=self.fast_period, slowperiod=self.slow_period, signalperiod=self.signal_period)\n",
      "        return pandas.DataFrame({\"macd\":sm1, \"macdsignal\":sm2, \"macdhist\":sm3}, df_norm.index)\n",
      "\n",
      "\n",
      "macd_prov = MACDProvider(c_locator)"
     ],
     "language": "python",
     "metadata": {},
     "outputs": [],
     "prompt_number": 15
    },
    {
     "cell_type": "code",
     "collapsed": false,
     "input": [
      "macd_jan = macd_prov.load('PETR4', d(2013, 1, 1), d(2013, 3, 1))"
     ],
     "language": "python",
     "metadata": {},
     "outputs": [],
     "prompt_number": 13
    },
    {
     "cell_type": "code",
     "collapsed": false,
     "input": [
      "%timeit macd_prov.load('PETR4')"
     ],
     "language": "python",
     "metadata": {},
     "outputs": [
      {
       "output_type": "stream",
       "stream": "stdout",
       "text": [
        "100 loops, best of 3: 13.2 ms per loop\n"
       ]
      }
     ],
     "prompt_number": 18
    },
    {
     "cell_type": "code",
     "collapsed": false,
     "input": [
      "macd_jan['hist']"
     ],
     "language": "python",
     "metadata": {},
     "outputs": [
      {
       "output_type": "pyout",
       "prompt_number": 48,
       "text": [
        "2012-11-06         NaN\n",
        "2012-11-07         NaN\n",
        "2012-11-08         NaN\n",
        "2012-11-09         NaN\n",
        "2012-11-12         NaN\n",
        "2012-11-13         NaN\n",
        "2012-11-14         NaN\n",
        "2012-11-16         NaN\n",
        "2012-11-19         NaN\n",
        "2012-11-21         NaN\n",
        "2012-11-22         NaN\n",
        "2012-11-23         NaN\n",
        "2012-11-26         NaN\n",
        "2012-11-27         NaN\n",
        "2012-11-28         NaN\n",
        "2012-11-29         NaN\n",
        "2012-11-30         NaN\n",
        "2012-12-03         NaN\n",
        "2012-12-04         NaN\n",
        "2012-12-05         NaN\n",
        "2012-12-06         NaN\n",
        "2012-12-07         NaN\n",
        "2012-12-10         NaN\n",
        "2012-12-11         NaN\n",
        "2012-12-12         NaN\n",
        "2012-12-13         NaN\n",
        "2012-12-14         NaN\n",
        "2012-12-17         NaN\n",
        "2012-12-18         NaN\n",
        "2012-12-19         NaN\n",
        "2012-12-20         NaN\n",
        "2012-12-21         NaN\n",
        "2012-12-26         NaN\n",
        "2012-12-27    0.123810\n",
        "2012-12-28    0.064697\n",
        "2013-01-02    0.035137\n",
        "2013-01-03    0.060030\n",
        "2013-01-04    0.077408\n",
        "2013-01-07    0.058355\n",
        "2013-01-08    0.005846\n",
        "2013-01-09   -0.016391\n",
        "2013-01-10   -0.020366\n",
        "2013-01-11   -0.019022\n",
        "2013-01-14   -0.019477\n",
        "2013-01-15   -0.020990\n",
        "2013-01-16   -0.019849\n",
        "2013-01-17   -0.026632\n",
        "2013-01-18   -0.037964\n",
        "2013-01-21   -0.055297\n",
        "2013-01-22   -0.051106\n",
        "2013-01-23   -0.047567\n",
        "2013-01-24   -0.038769\n",
        "2013-01-28   -0.046195\n",
        "2013-01-29   -0.064570\n",
        "2013-01-30   -0.130179\n",
        "2013-01-31   -0.171242\n",
        "2013-02-01   -0.162468\n",
        "2013-02-04   -0.176154\n",
        "2013-02-05   -0.168336\n",
        "2013-02-06   -0.182805\n",
        "2013-02-07   -0.185816\n",
        "2013-02-08   -0.159367\n",
        "2013-02-13   -0.126963\n",
        "2013-02-14   -0.104361\n",
        "2013-02-15   -0.083107\n",
        "2013-02-18   -0.043838\n",
        "2013-02-19    0.000296\n",
        "2013-02-20    0.001769\n",
        "2013-02-21   -0.012091\n",
        "2013-02-22   -0.026511\n",
        "2013-02-25   -0.042380\n",
        "2013-02-26   -0.058868\n",
        "2013-02-27   -0.056875\n",
        "2013-02-28   -0.060505\n",
        "2013-03-01   -0.036060\n",
        "Name: histo, Length: 75"
       ]
      }
     ],
     "prompt_number": 48
    },
    {
     "cell_type": "code",
     "collapsed": false,
     "input": [],
     "language": "python",
     "metadata": {},
     "outputs": []
    }
   ],
   "metadata": {}
  }
 ]
}