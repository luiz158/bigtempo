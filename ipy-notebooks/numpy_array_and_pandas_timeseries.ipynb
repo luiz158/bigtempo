{
 "metadata": {
  "name": "numpy_array_and_pandas_timeseries"
 },
 "nbformat": 3,
 "nbformat_minor": 0,
 "worksheets": [
  {
   "cells": [
    {
     "cell_type": "code",
     "collapsed": false,
     "input": [
      "import numpy"
     ],
     "language": "python",
     "metadata": {},
     "outputs": [],
     "prompt_number": 3
    },
    {
     "cell_type": "code",
     "collapsed": false,
     "input": [
      "import pandas"
     ],
     "language": "python",
     "metadata": {},
     "outputs": [],
     "prompt_number": 4
    },
    {
     "cell_type": "code",
     "collapsed": false,
     "input": [
      "N = 10\n",
      "ts = pandas.TimeSeries(numpy.random.randn(N), pandas.DateRange(datetime.datetime(2010, 1, 1), periods=N))\n",
      "ts"
     ],
     "language": "python",
     "metadata": {},
     "outputs": [
      {
       "output_type": "stream",
       "stream": "stderr",
       "text": [
        "/data/resemblanceProfiles/oncast-linux-PC/config/.virtualenvs/stockExperiments/lib/python2.7/site-packages/pandas/core/daterange.py:21: FutureWarning: DateRange is deprecated, use DatetimeIndex instead\n",
        "  FutureWarning)\n"
       ]
      },
      {
       "output_type": "pyout",
       "prompt_number": 6,
       "text": [
        "2010-01-01   -0.312095\n",
        "2010-01-04    0.093561\n",
        "2010-01-05   -2.198525\n",
        "2010-01-06   -0.440197\n",
        "2010-01-07    1.034109\n",
        "2010-01-08   -0.993172\n",
        "2010-01-11    0.464765\n",
        "2010-01-12    0.508005\n",
        "2010-01-13    0.522129\n",
        "2010-01-14    0.224365\n",
        "Freq: B"
       ]
      }
     ],
     "prompt_number": 6
    },
    {
     "cell_type": "code",
     "collapsed": false,
     "input": [
      "N = 10\n",
      "rg = pandas.date_range(datetime.datetime(2010, 1, 1), periods=N)\n",
      "a=[0.1, 0.2, 0.3, 0.4, 0.5, 0.6, 0.7, 0.8, 0.9, 1]\n",
      "ts = pandas.TimeSeries(a, rg)\n",
      "ts"
     ],
     "language": "python",
     "metadata": {},
     "outputs": [
      {
       "output_type": "pyout",
       "prompt_number": 25,
       "text": [
        "2010-01-01    0.1\n",
        "2010-01-02    0.2\n",
        "2010-01-03    0.3\n",
        "2010-01-04    0.4\n",
        "2010-01-05    0.5\n",
        "2010-01-06    0.6\n",
        "2010-01-07    0.7\n",
        "2010-01-08    0.8\n",
        "2010-01-09    0.9\n",
        "2010-01-10    1.0\n",
        "Freq: D"
       ]
      }
     ],
     "prompt_number": 25
    },
    {
     "cell_type": "code",
     "collapsed": false,
     "input": [
      "ts.cumsum()"
     ],
     "language": "python",
     "metadata": {},
     "outputs": [
      {
       "output_type": "pyout",
       "prompt_number": 26,
       "text": [
        "2010-01-01    0.1\n",
        "2010-01-02    0.3\n",
        "2010-01-03    0.6\n",
        "2010-01-04    1.0\n",
        "2010-01-05    1.5\n",
        "2010-01-06    2.1\n",
        "2010-01-07    2.8\n",
        "2010-01-08    3.6\n",
        "2010-01-09    4.5\n",
        "2010-01-10    5.5\n",
        "Freq: D"
       ]
      }
     ],
     "prompt_number": 26
    },
    {
     "cell_type": "code",
     "collapsed": false,
     "input": [
      "ts.cumsum().plot() "
     ],
     "language": "python",
     "metadata": {},
     "outputs": [
      {
       "output_type": "pyout",
       "prompt_number": 27,
       "text": [
        "<matplotlib.axes.AxesSubplot at 0xb35c30c>"
       ]
      },
      {
       "output_type": "display_data",
       "png": "[encoded data removed]"
      }
     ],
     "prompt_number": 27
    },
    {
     "cell_type": "code",
     "collapsed": false,
     "input": [
      "def f(input):\n",
      "    print input\n",
      "    result = 0.0\n",
      "    for v in input:\n",
      "        result += v\n",
      "    return result"
     ],
     "language": "python",
     "metadata": {},
     "outputs": [],
     "prompt_number": 28
    },
    {
     "cell_type": "code",
     "collapsed": false,
     "input": [
      "pandas.stats.moments.rolling_apply(ts, 3, f)"
     ],
     "language": "python",
     "metadata": {},
     "outputs": [
      {
       "output_type": "stream",
       "stream": "stdout",
       "text": [
        "[ 0.1  0.2  0.3]\n",
        "[ 0.2  0.3  0.4]\n",
        "[ 0.3  0.4  0.5]\n",
        "[ 0.4  0.5  0.6]\n",
        "[ 0.5  0.6  0.7]\n",
        "[ 0.6  0.7  0.8]\n",
        "[ 0.7  0.8  0.9]\n",
        "[ 0.8  0.9  1. ]\n"
       ]
      },
      {
       "output_type": "pyout",
       "prompt_number": 29,
       "text": [
        "2010-01-01    NaN\n",
        "2010-01-02    NaN\n",
        "2010-01-03    0.6\n",
        "2010-01-04    0.9\n",
        "2010-01-05    1.2\n",
        "2010-01-06    1.5\n",
        "2010-01-07    1.8\n",
        "2010-01-08    2.1\n",
        "2010-01-09    2.4\n",
        "2010-01-10    2.7\n",
        "Freq: D"
       ]
      }
     ],
     "prompt_number": 29
    }
   ],
   "metadata": {}
  }
 ]
}