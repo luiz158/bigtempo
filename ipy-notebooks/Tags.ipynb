{
 "metadata": {
  "name": "Tags"
 },
 "nbformat": 3,
 "nbformat_minor": 0,
 "worksheets": [
  {
   "cells": [
    {
     "cell_type": "markdown",
     "metadata": {},
     "source": [
      "Tag querying mechanism\n",
      "======================\n",
      "\n",
      "Tag system that enables object description and later selection of these objects through set operations (unions, intersections, complements and relative complements, symmetric difference, and so on).\n",
      "\n",
      "\n",
      "## Motivations\n",
      "### Possibilities of new projects and capabilities\n",
      "- Organization of datasources in sets for simple querying features.\n",
      "- Possibility of easy creation of dataSource generators, reports and other repetitive tasks on groups of datasources."
     ]
    },
    {
     "cell_type": "markdown",
     "metadata": {},
     "source": [
      "## P&D - Validation and prototypation of the idea"
     ]
    },
    {
     "cell_type": "code",
     "collapsed": false,
     "input": [
      "import util.datastructutils as utils\n",
      "\n",
      "class SetFactory(object):\n",
      "\n",
      "    def get(self):\n",
      "        return set()"
     ],
     "language": "python",
     "metadata": {},
     "outputs": [],
     "prompt_number": 1
    },
    {
     "cell_type": "code",
     "collapsed": false,
     "input": [
      "class TagSystem(object):\n",
      "    \n",
      "    def __init__(self):\n",
      "        self.tagMap = utils.LazyDict(SetFactory())\n",
      "    \n",
      "    def add(self, obj, tags):\n",
      "        for tag in tags:\n",
      "            self.tagMap.get(tag).add(obj)\n",
      "    \n",
      "    def get(self, tag, *tags):\n",
      "        result = self.tagMap.get(tag).copy()\n",
      "        for intersection_tag in tags:\n",
      "            result.intersection_update(self.tagMap.get(intersection_tag))\n",
      "        return result"
     ],
     "language": "python",
     "metadata": {},
     "outputs": [],
     "prompt_number": 24
    },
    {
     "cell_type": "code",
     "collapsed": false,
     "input": [
      "tag_sys = TagSystem()\n",
      "\n",
      "for word in 'Roberto Jorge Haddock Lobo Filho'.lower().split():\n",
      "    tag_sys.add(word, list(word))"
     ],
     "language": "python",
     "metadata": {},
     "outputs": [],
     "prompt_number": 25
    },
    {
     "cell_type": "code",
     "collapsed": false,
     "input": [
      "tag_sys.get('r', 'b')"
     ],
     "language": "python",
     "metadata": {},
     "outputs": [
      {
       "output_type": "pyout",
       "prompt_number": 28,
       "text": [
        "set(['roberto'])"
       ]
      }
     ],
     "prompt_number": 28
    },
    {
     "cell_type": "code",
     "collapsed": false,
     "input": [],
     "language": "python",
     "metadata": {},
     "outputs": []
    }
   ],
   "metadata": {}
  }
 ]
}