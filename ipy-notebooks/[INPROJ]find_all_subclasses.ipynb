{
 "metadata": {
  "name": "[INPROJ]find_all_subclasses"
 },
 "nbformat": 3,
 "nbformat_minor": 0,
 "worksheets": [
  {
   "cells": [
    {
     "cell_type": "markdown",
     "metadata": {},
     "source": [
      "How can I find all subclasses of a given class in Python?\n",
      "=========================================================\n",
      "\n",
      "I want that so that I can make tests that verify all subclasses for method implementations and other things.\n",
      "Some classes in my project will need to obey a certain contract, such as making available a description of the kind of values it represents, offer a static token / object identification, and so on.\n",
      "\n",
      "I've got this from [an stack overflow question][1].\n",
      "\n",
      "\n",
      "[1]: http://stackoverflow.com/questions/3862310/how-can-i-find-all-subclasses-of-a-given-class-in-python"
     ]
    },
    {
     "cell_type": "markdown",
     "metadata": {},
     "source": [
      "### Method definition"
     ]
    },
    {
     "cell_type": "code",
     "collapsed": false,
     "input": [
      "def all_subclasses(cls):\n",
      "    return cls.__subclasses__() + [g for s in cls.__subclasses__() for g in all_subclasses(s)]"
     ],
     "language": "python",
     "metadata": {},
     "outputs": [],
     "prompt_number": 1
    },
    {
     "cell_type": "markdown",
     "metadata": {},
     "source": [
      "or"
     ]
    },
    {
     "cell_type": "code",
     "collapsed": false,
     "input": [
      "def all_subclasses(clazz):\n",
      "    recursiveResult = []\n",
      "    for subClazz in clazz.__subclasses__():\n",
      "        recursiveResult.extend(all_subclasses(subClazz))\n",
      "    return clazz.__subclasses__() + recursiveResult"
     ],
     "language": "python",
     "metadata": {},
     "outputs": [],
     "prompt_number": 8
    },
    {
     "cell_type": "markdown",
     "metadata": {},
     "source": [
      "### Testing"
     ]
    },
    {
     "cell_type": "code",
     "collapsed": false,
     "input": [
      "class Clazz(object):\n",
      "    pass\n",
      "\n",
      "class Clazz1(Clazz):\n",
      "    pass\n",
      "\n",
      "class Clazz2(Clazz):\n",
      "    pass\n",
      "\n",
      "class Clazz1A(Clazz1):\n",
      "    pass\n",
      "\n",
      "class Clazz1B(Clazz1):\n",
      "    pass\n",
      "\n",
      "class Clazz2A(Clazz2):\n",
      "    pass\n",
      "\n",
      "class Clazz2B(Clazz2):\n",
      "    pass\n",
      "\n",
      "class ShouldNotBeThere(object):\n",
      "    pass"
     ],
     "language": "python",
     "metadata": {},
     "outputs": [],
     "prompt_number": 4
    },
    {
     "cell_type": "code",
     "collapsed": false,
     "input": [
      "all_subclasses(Clazz)"
     ],
     "language": "python",
     "metadata": {},
     "outputs": [
      {
       "output_type": "pyout",
       "prompt_number": 9,
       "text": [
        "[__main__.Clazz1,\n",
        " __main__.Clazz2,\n",
        " __main__.Clazz1A,\n",
        " __main__.Clazz1B,\n",
        " __main__.Clazz2A,\n",
        " __main__.Clazz2B]"
       ]
      }
     ],
     "prompt_number": 9
    }
   ],
   "metadata": {}
  }
 ]
}