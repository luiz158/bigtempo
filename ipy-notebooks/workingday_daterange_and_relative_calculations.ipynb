{
 "metadata": {
  "name": "workingday_daterange_and_relative_calculations"
 },
 "nbformat": 3,
 "nbformat_minor": 0,
 "worksheets": [
  {
   "cells": [
    {
     "cell_type": "code",
     "collapsed": false,
     "input": [
      "import datetime"
     ],
     "language": "python",
     "metadata": {},
     "outputs": [],
     "prompt_number": 1
    },
    {
     "cell_type": "code",
     "collapsed": false,
     "input": [
      "from dateutil.rrule import DAILY, WDAYMASK, rrule\n",
      "\n",
      "def wday_daterange(da_start, da_end):\n",
      "  return rrule(DAILY, dtstart=da_start, until=da_end, byweekday=WDAYMASK)"
     ],
     "language": "python",
     "metadata": {},
     "outputs": [],
     "prompt_number": 2
    },
    {
     "cell_type": "code",
     "collapsed": false,
     "input": [
      "startDate = datetime.date(2012,11,1)\n",
      "endDate = datetime.date(2012,11,30)"
     ],
     "language": "python",
     "metadata": {},
     "outputs": [],
     "prompt_number": 3
    },
    {
     "cell_type": "code",
     "collapsed": false,
     "input": [
      "for d in wday_daterange(startDate, endDate):\n",
      "    print d"
     ],
     "language": "python",
     "metadata": {},
     "outputs": [
      {
       "output_type": "stream",
       "stream": "stdout",
       "text": [
        "2012-11-01 00:00:00\n",
        "2012-11-02 00:00:00\n",
        "2012-11-03 00:00:00\n",
        "2012-11-04 00:00:00\n",
        "2012-11-05 00:00:00\n",
        "2012-11-06 00:00:00\n",
        "2012-11-07 00:00:00\n",
        "2012-11-08 00:00:00\n",
        "2012-11-09 00:00:00\n",
        "2012-11-10 00:00:00\n",
        "2012-11-11 00:00:00\n",
        "2012-11-12 00:00:00\n",
        "2012-11-13 00:00:00\n",
        "2012-11-14 00:00:00\n",
        "2012-11-15 00:00:00\n",
        "2012-11-16 00:00:00\n",
        "2012-11-17 00:00:00\n",
        "2012-11-18 00:00:00\n",
        "2012-11-19 00:00:00\n",
        "2012-11-20 00:00:00\n",
        "2012-11-21 00:00:00\n",
        "2012-11-22 00:00:00\n",
        "2012-11-23 00:00:00\n",
        "2012-11-24 00:00:00\n",
        "2012-11-25 00:00:00\n",
        "2012-11-26 00:00:00\n",
        "2012-11-27 00:00:00\n",
        "2012-11-28 00:00:00\n",
        "2012-11-29 00:00:00\n",
        "2012-11-30 00:00:00\n"
       ]
      }
     ],
     "prompt_number": 4
    },
    {
     "cell_type": "markdown",
     "metadata": {},
     "source": [
      "## Pandas\n",
      "http://pandas.pydata.org/pandas-docs/dev/timeseries.html"
     ]
    },
    {
     "cell_type": "code",
     "collapsed": false,
     "input": [
      "import pandas as pd"
     ],
     "language": "python",
     "metadata": {},
     "outputs": [],
     "prompt_number": 19
    },
    {
     "cell_type": "code",
     "collapsed": false,
     "input": [
      "dr = pd.bdate_range(startDate, endDate, normalize=True)\n",
      "for d in dr:\n",
      "    print d"
     ],
     "language": "python",
     "metadata": {},
     "outputs": [
      {
       "output_type": "stream",
       "stream": "stdout",
       "text": [
        "2012-11-01 00:00:00\n",
        "2012-11-02 00:00:00\n",
        "2012-11-05 00:00:00\n",
        "2012-11-06 00:00:00\n",
        "2012-11-07 00:00:00\n",
        "2012-11-08 00:00:00\n",
        "2012-11-09 00:00:00\n",
        "2012-11-12 00:00:00\n",
        "2012-11-13 00:00:00\n",
        "2012-11-14 00:00:00\n",
        "2012-11-15 00:00:00\n",
        "2012-11-16 00:00:00\n",
        "2012-11-19 00:00:00\n",
        "2012-11-20 00:00:00\n",
        "2012-11-21 00:00:00\n",
        "2012-11-22 00:00:00\n",
        "2012-11-23 00:00:00\n",
        "2012-11-26 00:00:00\n",
        "2012-11-27 00:00:00\n",
        "2012-11-28 00:00:00\n",
        "2012-11-29 00:00:00\n",
        "2012-11-30 00:00:00\n"
       ]
      }
     ],
     "prompt_number": 7
    },
    {
     "cell_type": "code",
     "collapsed": false,
     "input": [
      "for d in pd.date_range(startDate, endDate, freq='B', normalize=True):\n",
      "    print d"
     ],
     "language": "python",
     "metadata": {},
     "outputs": [
      {
       "output_type": "stream",
       "stream": "stdout",
       "text": [
        "2012-11-01 00:00:00\n",
        "2012-11-02 00:00:00\n",
        "2012-11-05 00:00:00\n",
        "2012-11-06 00:00:00\n",
        "2012-11-07 00:00:00\n",
        "2012-11-08 00:00:00\n",
        "2012-11-09 00:00:00\n",
        "2012-11-12 00:00:00\n",
        "2012-11-13 00:00:00\n",
        "2012-11-14 00:00:00\n",
        "2012-11-15 00:00:00\n",
        "2012-11-16 00:00:00\n",
        "2012-11-19 00:00:00\n",
        "2012-11-20 00:00:00\n",
        "2012-11-21 00:00:00\n",
        "2012-11-22 00:00:00\n",
        "2012-11-23 00:00:00\n",
        "2012-11-26 00:00:00\n",
        "2012-11-27 00:00:00\n",
        "2012-11-28 00:00:00\n",
        "2012-11-29 00:00:00\n",
        "2012-11-30 00:00:00\n"
       ]
      }
     ],
     "prompt_number": 8
    },
    {
     "cell_type": "code",
     "collapsed": false,
     "input": [
      "for d in pd.date_range(startDate, periods=5, freq='B', normalize=True):\n",
      "    print d"
     ],
     "language": "python",
     "metadata": {},
     "outputs": [
      {
       "output_type": "stream",
       "stream": "stdout",
       "text": [
        "2012-11-01 00:00:00\n",
        "2012-11-02 00:00:00\n",
        "2012-11-05 00:00:00\n",
        "2012-11-06 00:00:00\n",
        "2012-11-07 00:00:00\n"
       ]
      }
     ],
     "prompt_number": 9
    },
    {
     "cell_type": "markdown",
     "metadata": {},
     "source": [
      "Pandas TimeOffset"
     ]
    },
    {
     "cell_type": "code",
     "collapsed": false,
     "input": [
      "day = datetime.datetime(2009, 8, 21)\n",
      "day - relativedelta(days=18)"
     ],
     "language": "python",
     "metadata": {},
     "outputs": [
      {
       "output_type": "pyout",
       "prompt_number": 10,
       "text": [
        "datetime.datetime(2009, 8, 3, 0, 0)"
       ]
      }
     ],
     "prompt_number": 10
    },
    {
     "cell_type": "code",
     "collapsed": false,
     "input": [
      "from pandas.tseries.offsets import *"
     ],
     "language": "python",
     "metadata": {},
     "outputs": [],
     "prompt_number": 11
    },
    {
     "cell_type": "code",
     "collapsed": false,
     "input": [
      "day = datetime.datetime(2009, 8, 21)\n",
      "day - 18 * BDay()"
     ],
     "language": "python",
     "metadata": {},
     "outputs": [
      {
       "output_type": "pyout",
       "prompt_number": 12,
       "text": [
        "datetime.datetime(2009, 7, 28, 0, 0)"
       ]
      }
     ],
     "prompt_number": 12
    },
    {
     "cell_type": "code",
     "collapsed": false,
     "input": [
      "from pandas.tseries.offsets import BDay\n",
      "import datetime\n",
      "\n",
      "datetime.datetime(2009, 8, 21) - 18 * BDay()\n"
     ],
     "language": "python",
     "metadata": {},
     "outputs": [
      {
       "output_type": "pyout",
       "prompt_number": 13,
       "text": [
        "datetime.datetime(2009, 7, 28, 0, 0)"
       ]
      }
     ],
     "prompt_number": 13
    },
    {
     "cell_type": "markdown",
     "metadata": {},
     "source": [
      "Last working day"
     ]
    },
    {
     "cell_type": "code",
     "collapsed": false,
     "input": [
      "def lastWorkingDay(day):\n",
      "    wday = day.weekday()\n",
      "    return day if wday <= 4 else day - datetime.timedelta(wday - 4)"
     ],
     "language": "python",
     "metadata": {},
     "outputs": [],
     "prompt_number": 14
    },
    {
     "cell_type": "code",
     "collapsed": false,
     "input": [
      "lastWorkingDay(datetime.date(2012, 11, 4))"
     ],
     "language": "python",
     "metadata": {},
     "outputs": [
      {
       "output_type": "pyout",
       "prompt_number": 15,
       "text": [
        "datetime.date(2012, 11, 2)"
       ]
      }
     ],
     "prompt_number": 15
    },
    {
     "cell_type": "code",
     "collapsed": false,
     "input": [
      "lastWorkingDay(datetime.date(2012, 11, 5))"
     ],
     "language": "python",
     "metadata": {},
     "outputs": [
      {
       "output_type": "pyout",
       "prompt_number": 16,
       "text": [
        "datetime.date(2012, 11, 5)"
       ]
      }
     ],
     "prompt_number": 16
    },
    {
     "cell_type": "code",
     "collapsed": false,
     "input": [
      "lastWorkingDay(datetime.date(2012, 11, 6))"
     ],
     "language": "python",
     "metadata": {},
     "outputs": [
      {
       "output_type": "pyout",
       "prompt_number": 17,
       "text": [
        "datetime.date(2012, 11, 6)"
       ]
      }
     ],
     "prompt_number": 17
    },
    {
     "cell_type": "code",
     "collapsed": false,
     "input": [
      "lastWorkingDay(datetime.date(2012, 11, 3))"
     ],
     "language": "python",
     "metadata": {},
     "outputs": [
      {
       "output_type": "pyout",
       "prompt_number": 18,
       "text": [
        "datetime.date(2012, 11, 2)"
       ]
      }
     ],
     "prompt_number": 18
    },
    {
     "cell_type": "markdown",
     "metadata": {},
     "source": [
      "Today"
     ]
    },
    {
     "cell_type": "code",
     "collapsed": false,
     "input": [
      "datetime.date.today()"
     ],
     "language": "python",
     "metadata": {},
     "outputs": [
      {
       "output_type": "pyout",
       "prompt_number": 21,
       "text": [
        "datetime.date(2012, 12, 2)"
       ]
      }
     ],
     "prompt_number": 21
    },
    {
     "cell_type": "code",
     "collapsed": false,
     "input": [
      "lastWorkingDay(datetime.date.today())"
     ],
     "language": "python",
     "metadata": {},
     "outputs": [
      {
       "output_type": "pyout",
       "prompt_number": 22,
       "text": [
        "datetime.date(2012, 11, 30)"
       ]
      }
     ],
     "prompt_number": 22
    },
    {
     "cell_type": "code",
     "collapsed": false,
     "input": [],
     "language": "python",
     "metadata": {},
     "outputs": []
    }
   ],
   "metadata": {}
  }
 ]
}