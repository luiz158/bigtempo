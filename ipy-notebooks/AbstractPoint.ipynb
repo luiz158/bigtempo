{
 "metadata": {
  "name": "AbstractPoint"
 },
 "nbformat": 3,
 "nbformat_minor": 0,
 "worksheets": [
  {
   "cells": [
    {
     "cell_type": "code",
     "collapsed": false,
     "input": [
      "import util.dateutils as dateutils\n",
      "import providers.base as base\n",
      "import providers.byproduct as byproduct"
     ],
     "language": "python",
     "metadata": {},
     "outputs": [],
     "prompt_number": 19
    },
    {
     "cell_type": "code",
     "collapsed": false,
     "input": [
      "class AbstractPoint(base.AbstractProvider):\n",
      "    pass\n"
     ],
     "language": "python",
     "metadata": {},
     "outputs": [],
     "prompt_number": 20
    },
    {
     "cell_type": "code",
     "collapsed": false,
     "input": [
      "class MACD_Point(AbstractPoint):\n",
      "\n",
      "    def __init__(self, locator):\n",
      "        base.AbstractProvider.__init__(self)\n",
      "        self.locator = locator\n",
      "    \n",
      "    def load(self, s_symbol, da_start=None, da_end=None):\n",
      "        df_macd = self.locator.get(byproduct.MACDProvider).load(s_symbol, da_start, da_end).dropna()\n",
      "        \n",
      "        last = 0\n",
      "        for i in range(len(df_macd)):\n",
      "            v = df_macd.ix[i]['macdhist']\n",
      "            if last < 0 and v > 0:\n",
      "                yield df_macd.ix[i]\n",
      "            last = v\n"
     ],
     "language": "python",
     "metadata": {},
     "outputs": [],
     "prompt_number": 21
    },
    {
     "cell_type": "code",
     "collapsed": false,
     "input": [
      "import pandas\n",
      "import util.dateutils as dateutils\n",
      "import providers.locator as locator\n",
      "import providers.base as base\n",
      "import providers.raw as raw\n",
      "import providers.byproduct as byproduct"
     ],
     "language": "python",
     "metadata": {},
     "outputs": [],
     "prompt_number": 22
    },
    {
     "cell_type": "code",
     "collapsed": false,
     "input": [
      "s_symbol = 'PETR4'"
     ],
     "language": "python",
     "metadata": {},
     "outputs": [],
     "prompt_number": 23
    },
    {
     "cell_type": "code",
     "collapsed": false,
     "input": [
      "c_locator = locator.stock()"
     ],
     "language": "python",
     "metadata": {},
     "outputs": [],
     "prompt_number": 24
    },
    {
     "cell_type": "code",
     "collapsed": false,
     "input": [
      "p = MACD_Point(c_locator)"
     ],
     "language": "python",
     "metadata": {},
     "outputs": [],
     "prompt_number": 25
    },
    {
     "cell_type": "code",
     "collapsed": false,
     "input": [
      "\n",
      "def bla(s_symbol):\n",
      "    r = []\n",
      "    for i in p.load(s_symbol):\n",
      "        r.append(i)\n",
      "\n"
     ],
     "language": "python",
     "metadata": {},
     "outputs": [],
     "prompt_number": 29
    },
    {
     "cell_type": "code",
     "collapsed": false,
     "input": [
      "%timeit bla('PETR4')"
     ],
     "language": "python",
     "metadata": {},
     "outputs": [
      {
       "output_type": "stream",
       "stream": "stdout",
       "text": [
        "10 loops, best of 3: 121 ms per loop\n"
       ]
      }
     ],
     "prompt_number": 30
    },
    {
     "cell_type": "code",
     "collapsed": false,
     "input": [],
     "language": "python",
     "metadata": {},
     "outputs": []
    }
   ],
   "metadata": {}
  }
 ]
}